{
 "cells": [
  {
   "cell_type": "markdown",
   "id": "6d443085",
   "metadata": {},
   "source": [
    "# **EXERCISE 1**"
   ]
  },
  {
   "cell_type": "markdown",
   "id": "9c60165d",
   "metadata": {},
   "source": [
    "# Python If-Else"
   ]
  },
  {
   "cell_type": "code",
   "execution_count": null,
   "id": "0add8e76",
   "metadata": {},
   "outputs": [],
   "source": [
    "n = int(input())\n",
    "if n%2: \n",
    "    print(\"Weird\")\n",
    "elif 5<n<21:\n",
    "    print(\"Weird\")\n",
    "else: \n",
    "    print(\"Not Weird\")"
   ]
  },
  {
   "cell_type": "markdown",
   "id": "a4e3d1b8",
   "metadata": {},
   "source": [
    "# Say \"Hello, World!\" With Python"
   ]
  },
  {
   "cell_type": "code",
   "execution_count": null,
   "id": "0c099315",
   "metadata": {},
   "outputs": [],
   "source": [
    "a = \"Hello, World!\"\n",
    "print(a)"
   ]
  },
  {
   "cell_type": "markdown",
   "id": "f80ec428",
   "metadata": {},
   "source": [
    "# Arithmetic Operators"
   ]
  },
  {
   "cell_type": "code",
   "execution_count": null,
   "id": "be45b3e1",
   "metadata": {},
   "outputs": [],
   "source": [
    "a = int(input())\n",
    "b = int(input())\n",
    "print(a+b)\n",
    "print(a-b)\n",
    "print(a*b)"
   ]
  },
  {
   "cell_type": "markdown",
   "id": "5da72cfb",
   "metadata": {},
   "source": [
    "# Python: Division"
   ]
  },
  {
   "cell_type": "code",
   "execution_count": null,
   "id": "dc054286",
   "metadata": {},
   "outputs": [],
   "source": [
    "a = int(input())\n",
    "b = int(input())\n",
    "print(a//b)\n",
    "print(a/b)"
   ]
  },
  {
   "cell_type": "markdown",
   "id": "f4f3e95a",
   "metadata": {},
   "source": [
    "# Loops"
   ]
  },
  {
   "cell_type": "code",
   "execution_count": null,
   "id": "3016d603",
   "metadata": {},
   "outputs": [],
   "source": [
    "n = int(input())\n",
    "for i in range(n):\n",
    "    print(i**2)"
   ]
  },
  {
   "cell_type": "markdown",
   "id": "984017c8",
   "metadata": {},
   "source": [
    "# Write a function"
   ]
  },
  {
   "cell_type": "code",
   "execution_count": null,
   "id": "95b947d1",
   "metadata": {},
   "outputs": [],
   "source": [
    "def is_leap(year):\n",
    "    leap = False\n",
    "    # (not year%n) is true iff year is a multiple of n\n",
    "    if not year%4:\n",
    "        leap = True\n",
    "        if not year%100:\n",
    "            leap = False\n",
    "            if not year%400:\n",
    "                leap = True    \n",
    "    return leap"
   ]
  },
  {
   "cell_type": "markdown",
   "id": "ed8d4c5a",
   "metadata": {},
   "source": [
    "# Print Function"
   ]
  },
  {
   "cell_type": "code",
   "execution_count": null,
   "id": "4ed767b6",
   "metadata": {},
   "outputs": [],
   "source": [
    "n = int(input())\n",
    "for i in range(n):\n",
    "    print(i+1, end=\"\")\n",
    "    # specifying to end the printed string with nothing, instead of \\n"
   ]
  },
  {
   "cell_type": "markdown",
   "id": "c4897a73",
   "metadata": {},
   "source": [
    "# List Comprehensions"
   ]
  },
  {
   "cell_type": "code",
   "execution_count": null,
   "id": "971eb633",
   "metadata": {},
   "outputs": [],
   "source": [
    "if __name__ == '__main__':\n",
    "    x = int(input())\n",
    "    y = int(input())\n",
    "    z = int(input())\n",
    "    n = int(input())\n",
    "    \n",
    "# let's use list comprehension to define the list\n",
    "lex_ord_list=[\n",
    "    [i,j,k] \n",
    "    for i in range(x+1) \n",
    "    for j in range(y+1) \n",
    "    for k in range(z+1)\n",
    "    if i+j+k!=n\n",
    "    ]\n",
    "# since the for are in order i,j,k the order will be lexicographic\n",
    "print(lex_ord_list)\n"
   ]
  },
  {
   "cell_type": "markdown",
   "id": "3988b803",
   "metadata": {},
   "source": [
    "# Find the Runner-Up Score!"
   ]
  },
  {
   "cell_type": "code",
   "execution_count": null,
   "id": "a8ccf069",
   "metadata": {},
   "outputs": [],
   "source": [
    "n = int(input())\n",
    "arr = map(int, input().split())\n",
    "# initialize first and second according to the constraint\n",
    "first, second = -100,-101\n",
    "for i in arr:\n",
    "    if first<i:\n",
    "        # if we find a new best score, the ex-first become second\n",
    "        second=first\n",
    "        first=i        \n",
    "    elif second<i<first:\n",
    "        # if we find a new second-best we save it\n",
    "        second=i\n",
    "\n",
    "# if the second value is still -101, then everyone scored the same\n",
    "if second>-101:\n",
    "    print(second)\n",
    "else: \n",
    "    print(\"Everyone scored the same, there's no runner-up score\")\n"
   ]
  },
  {
   "cell_type": "markdown",
   "id": "659f28b0",
   "metadata": {},
   "source": [
    "# Nested Lists"
   ]
  },
  {
   "cell_type": "code",
   "execution_count": null,
   "id": "dca0bfff",
   "metadata": {},
   "outputs": [],
   "source": [
    "MyList=[]\n",
    "\n",
    "# initialization according to constraint (grade<=100)\n",
    "first, second 100.0, 100.0\n",
    "\n",
    "# we iterate N times, where N is the first input\n",
    "for i in range(int(input())):\n",
    "    # During each iteration, we save the student data and, if necessary, update the first and second lowest grades\n",
    "    name = input()\n",
    "    score = float(input())\n",
    "    MyList.append([name,score])\n",
    "    if first>score:\n",
    "        second = first\n",
    "        first = score        \n",
    "    elif first<score<second:\n",
    "        second = score\n",
    "\n",
    "# sort list by name (index 0)\n",
    "MyList.sort(key = lambda x: x[0])\n",
    "\n",
    "# print names of student with second lowest grade\n",
    "for i in range(len(MyList)):\n",
    "    if MyList[i][1]==second:\n",
    "        print(MyList[i][0])\n"
   ]
  },
  {
   "cell_type": "markdown",
   "id": "1892a6fc",
   "metadata": {},
   "source": [
    "# Finding the percentage\n",
    "**Acknowledgment:** searched online for how to format and print a float value with a specific number of decimal places"
   ]
  },
  {
   "cell_type": "code",
   "execution_count": null,
   "id": "6a6cc38c",
   "metadata": {},
   "outputs": [],
   "source": [
    "# initialize empty dictionary\n",
    "student_marks = {}\n",
    "\n",
    "for i in range(int(input())):\n",
    "    # at every iteration with store the marks of the student with key = his name\n",
    "    name, *marks = input().split()\n",
    "    marks = list(map(float, marks))\n",
    "    student_marks[name] = marks\n",
    "\n",
    "# store the queried student's name and print the average of his marks formatted to 2 decimal places\n",
    "name = input()\n",
    "mean = sum(student_marks[name])/len(student_marks[name])\n",
    "print(f\"{mean:.2f}\")\n"
   ]
  },
  {
   "cell_type": "markdown",
   "id": "7ea9dfa1",
   "metadata": {},
   "source": [
    "# Lists"
   ]
  },
  {
   "cell_type": "code",
   "execution_count": null,
   "id": "71ebd527",
   "metadata": {},
   "outputs": [],
   "source": [
    "MyList=[]\n",
    "for i in range(int(input())):\n",
    "\n",
    "    # at each iteration, we store the command and the corresponding action to perform on the list\n",
    "    temp = input().split()\n",
    "    action = temp[0]\n",
    "\n",
    "    # a switch-case structure for handling different list operations\n",
    "    if action == \"insert\":\n",
    "        MyList.insert(int(temp[1]),int(temp[2]))\n",
    "    if action == \"print\":\n",
    "        print(MyList)\n",
    "    if action == \"remove\":\n",
    "        MyList.remove(int(temp[1]))\n",
    "    if action == \"append\":\n",
    "        MyList.append(int(temp[1]))\n",
    "    if action == \"sort\":\n",
    "        MyList.sort()\n",
    "    if action == \"pop\":\n",
    "        MyList.pop()\n",
    "    if action == \"reverse\":\n",
    "        MyList.reverse()\n"
   ]
  },
  {
   "cell_type": "markdown",
   "id": "b5cfb07b",
   "metadata": {},
   "source": [
    "# Tuples"
   ]
  },
  {
   "cell_type": "code",
   "execution_count": null,
   "id": "52cb75a0",
   "metadata": {},
   "outputs": [],
   "source": [
    "input()     # let's ignore n, it's not needed\n",
    "t = tuple(map(int, input().split()))\n",
    "print(hash(t))"
   ]
  },
  {
   "cell_type": "markdown",
   "id": "048dd889",
   "metadata": {},
   "source": [
    "# sWAP cASE"
   ]
  },
  {
   "cell_type": "code",
   "execution_count": null,
   "id": "e5cf90dd",
   "metadata": {},
   "outputs": [],
   "source": [
    "def swap_case(s):\n",
    "\n",
    "    #initialize empty string\n",
    "    new_s = \"\"\n",
    "    \n",
    "    for c in s:\n",
    "        # for every character in s, if it's lower we append it as upper (and viceversa)\n",
    "        # if it's not lower nor upper, then it's not a letter and we append it as it is\n",
    "        if c.isupper():\n",
    "            new_s += c.lower()\n",
    "        elif c.islower():\n",
    "            new_s += c.upper()\n",
    "        else:\n",
    "            new_s += c\n",
    "    \n",
    "    return new_s\n",
    "\n",
    "\n",
    "if __name__ == '__main__':\n",
    "    s = input()\n",
    "    result = swap_case(s)\n",
    "    print(result)"
   ]
  },
  {
   "cell_type": "markdown",
   "id": "46bd9ec9",
   "metadata": {},
   "source": [
    "# String Split and Join"
   ]
  },
  {
   "cell_type": "code",
   "execution_count": null,
   "id": "364b1991",
   "metadata": {},
   "outputs": [],
   "source": [
    "\n",
    "def split_and_join(line):\n",
    "    line = line.split()\n",
    "    line = \"-\".join(line)\n",
    "    return line\n",
    "\n",
    "if __name__ == '__main__':\n",
    "    line = input()\n",
    "    result = split_and_join(line)\n",
    "    print(result)\n"
   ]
  },
  {
   "cell_type": "markdown",
   "id": "097fa991",
   "metadata": {},
   "source": [
    "# What's Your Name?"
   ]
  },
  {
   "cell_type": "code",
   "execution_count": null,
   "id": "cd713f49",
   "metadata": {},
   "outputs": [],
   "source": [
    "#\n",
    "# Complete the 'print_full_name' function below.\n",
    "#\n",
    "# The function is expected to return a STRING.\n",
    "# The function accepts following parameters:\n",
    "#  1. STRING first\n",
    "#  2. STRING last\n",
    "#\n",
    "\n",
    "def print_full_name(first, last):\n",
    "    # we tell the print function to separate strings with nothing (\"\") to achieve the requested result\n",
    "    print(\"Hello \",first,\" \",last,\"! You just delved into python.\",sep=\"\")\n",
    "\n",
    "if __name__ == '__main__':\n",
    "    first_name = input()\n",
    "    last_name = input()\n",
    "    print_full_name(first_name, last_name)\n"
   ]
  },
  {
   "cell_type": "markdown",
   "id": "d3634906",
   "metadata": {},
   "source": [
    "# Mutations"
   ]
  },
  {
   "cell_type": "code",
   "execution_count": null,
   "id": "9c1e260e",
   "metadata": {},
   "outputs": [],
   "source": [
    "# s is the string, p the position and c the character to insert\n",
    "def mutate_string(s, p, c):\n",
    "\n",
    "    # cast string to a list of character\n",
    "    l = list(s)\n",
    "\n",
    "    # replace at position p with the given character c\n",
    "    l[p] = c\n",
    "\n",
    "    # recast to string\n",
    "    s = \"\".join(l)\n",
    "\n",
    "    return s\n",
    "\n",
    "\n",
    "if __name__ == '__main__':\n",
    "    s = input()\n",
    "    i, c = input().split()\n",
    "    s_new = mutate_string(s, int(i), c)\n",
    "    print(s_new)"
   ]
  },
  {
   "cell_type": "markdown",
   "id": "a5124b69",
   "metadata": {},
   "source": [
    "# Find a string"
   ]
  },
  {
   "cell_type": "code",
   "execution_count": null,
   "id": "8a0e5e00",
   "metadata": {},
   "outputs": [],
   "source": [
    "def count_substring(s, s_s):\n",
    "    count=0\n",
    "    for i in range(len(s)-len(s_s)+1):\n",
    "        cond=True\n",
    "        # we check if s_s appears as a substring of s at position i, where i=0,...,len(s)-len(s_s)\n",
    "        for j in range(len(s_s)):\n",
    "            if s[i+j] != s_s[j]:\n",
    "                cond=False\n",
    "        # if that's the case, we increase the count\n",
    "        if cond: count += 1    \n",
    "    return count\n",
    "\n",
    "\n",
    "if __name__ == '__main__':\n",
    "    string = input().strip()\n",
    "    sub_string = input().strip()\n",
    "    \n",
    "    count = count_substring(string, sub_string)\n",
    "    print(count)\n"
   ]
  },
  {
   "cell_type": "markdown",
   "id": "8b5314af",
   "metadata": {},
   "source": [
    "# String Validators"
   ]
  },
  {
   "cell_type": "code",
   "execution_count": null,
   "id": "be2ca629",
   "metadata": {},
   "outputs": [],
   "source": [
    "s = input()\n",
    "cond = [False]*5\n",
    "for c in s:\n",
    "    if c.isalnum(): cond[0] = True\n",
    "    if c.isalpha(): cond[1] = True\n",
    "    if c.isdigit(): cond[2] = True\n",
    "    if c.islower(): cond[3] = True\n",
    "    if c.isupper(): cond[4] = True\n",
    "for i in range(5): print(cond[i]) \n"
   ]
  },
  {
   "cell_type": "markdown",
   "id": "746e75fa",
   "metadata": {},
   "source": [
    "# Text Alignment\n",
    "**Aknowledgment:** apparently depending on the language you select (Pypy3/Python3) you get different initial code. I didn't know that when I submitted the code. In this case, with Pypy3, there was no initial code, so the task was really non trivial. I almost achieved it after a long trial and error process, but in the end I had to resort to the \"Discussions\" section to get one of the parameters right. "
   ]
  },
  {
   "cell_type": "code",
   "execution_count": null,
   "id": "c44be457",
   "metadata": {},
   "outputs": [],
   "source": [
    "w = int(input())\n",
    "\n",
    "# upper arrow\n",
    "for i in range(1,w+1):\n",
    "    print(\n",
    "        \" \"*(w-i) + \"H\"*(2*i-1)\n",
    "        )\n",
    "\n",
    "# upper \"I I\"\n",
    "for i in range(w+1):\n",
    "    print(\n",
    "        \" \"*(w//2) + \"H\"*w + \" \"*(3*w) + \"H\"*w\n",
    "        )\n",
    "\n",
    "# center\n",
    "# here, the height of the center section, wich is (w+1)//2, is the parameter I couldn't get\n",
    "for i in range ((w+1)//2):\n",
    "    print(\n",
    "        \" \"*(w//2) + \"H\"*(5*w)\n",
    "        )\n",
    "\n",
    "# lower \"I I\"\n",
    "for i in range(w+1):\n",
    "    print(\n",
    "        \" \"*(w//2) + \"H\"*w + \" \"*(3*w) + \"H\"*w\n",
    "        )\n",
    "\n",
    "# lower arrow\n",
    "for i in range(w,0,-1):\n",
    "    print(\n",
    "        \" \"*(w-i+4*w) + \"H\"*(2*i-1)\n",
    "        )"
   ]
  },
  {
   "cell_type": "markdown",
   "id": "d7c226cc",
   "metadata": {},
   "source": [
    "# Text Wrap"
   ]
  },
  {
   "cell_type": "code",
   "execution_count": null,
   "id": "8547d6dd",
   "metadata": {},
   "outputs": [],
   "source": [
    "# wrap the string s with w as max_width\n",
    "def wrap(s, w):\n",
    "    result = []\n",
    "    for i in range(len(s)):\n",
    "        result.append(s[i])\n",
    "        # newline every w characters\n",
    "        if not (i+1)%w:\n",
    "            result.append(\"\\n\")\n",
    "    # cast characters list as a string\n",
    "    result=\"\".join(result)\n",
    "    return result\n",
    "\n",
    "if __name__ == '__main__':\n",
    "    string, max_width = input(), int(input())\n",
    "    result = wrap(string, max_width)\n",
    "    print(result)"
   ]
  },
  {
   "cell_type": "markdown",
   "id": "50e17e8b",
   "metadata": {},
   "source": [
    "# Designer Door Mat"
   ]
  },
  {
   "cell_type": "code",
   "execution_count": null,
   "id": "cfcbbc15",
   "metadata": {},
   "outputs": [],
   "source": [
    "# get parameters as input\n",
    "N, M = map(int,input().split(\" \"))\n",
    "\n",
    "# print upper region of the door mat\n",
    "for i in range(N//2):\n",
    "    print((\".|.\"*(2*i+1)).center(M,\"-\"))\n",
    "\n",
    "# print the center region of the door mat\n",
    "print(\"WELCOME\".center(M,\"-\"))\n",
    "\n",
    "# print the lower region, wich is as the upper one but in reverse order\n",
    "for i in range(N//2-1,-1,-1):\n",
    "    print((\".|.\"*(2*i+1)).center(M,\"-\"))  \n"
   ]
  },
  {
   "cell_type": "markdown",
   "id": "ad731a0f",
   "metadata": {},
   "source": [
    "# String Formatting"
   ]
  },
  {
   "cell_type": "code",
   "execution_count": null,
   "id": "ce0af6ea",
   "metadata": {},
   "outputs": [],
   "source": [
    "def print_formatted(n):\n",
    "    # get the lenght of the binary representation of n, wich is the longer one of them all\n",
    "    w = len(bin(n)[2:])\n",
    "\n",
    "    for i in range(1,n+1):\n",
    "        print(\n",
    "            # for every number in the range, print the representations aligned to the right and occupying w spaces (.rjust(w))\n",
    "            # for oct, hex and bin we need to get rid of the first 2 characters, wich indicates the type of representation\n",
    "            # for hex, we need to make the letters UPPERCASE\n",
    "            str(i).rjust(w),\n",
    "            oct(i)[2:].rjust(w),\n",
    "            (hex(i)[2:].upper()).rjust(w),\n",
    "            bin(i)[2:].rjust(w)         \n",
    "        )\n",
    "\n",
    "if __name__ == '__main__':\n",
    "    n = int(input())\n",
    "    print_formatted(n)\n"
   ]
  },
  {
   "cell_type": "markdown",
   "id": "6bd14d9f",
   "metadata": {},
   "source": [
    "# Alphabet Rangoli"
   ]
  },
  {
   "cell_type": "code",
   "execution_count": null,
   "id": "389fe612",
   "metadata": {},
   "outputs": [],
   "source": [
    "def print_rangoli(n):\n",
    "    # lowercase letters are ordered in ascii from 97 to 123\n",
    "    # let's use this to make a sorted list of lowercase letters\n",
    "    l = []\n",
    "    for i in range(n):\n",
    "        l.append(chr(97+i))\n",
    "    \n",
    "    # upper section of the rangoli: is the reversed of the lower one with a missing loop repetition\n",
    "    for i in range(n-1,0,-1):\n",
    "        s = \"-\".join(l[n-1:i:-1]+l[i:n])\n",
    "        print(s.center(4*n-3,\"-\")) \n",
    "    \n",
    "    # lower section of the rangoli: \n",
    "    # at the i-th iteration, we make a list of letters from the n-th to the (i+1)-th, concatenated with it's reversed copy (minus the first letter)\n",
    "    # then we print it centered and with letters separated by \"-\"\n",
    "    # in the center line we have 2n-1 letters separated by 2n-2 \"-\", so the width of the line is 4n-3\n",
    "    for i in range(n):\n",
    "        s = \"-\".join(l[n-1:i:-1]+l[i:n])\n",
    "        print(s.center(4*n-3,\"-\"))\n",
    "\n",
    "\n",
    "if __name__ == '__main__':\n",
    "    n = int(input())\n",
    "    print_rangoli(n)  \n"
   ]
  },
  {
   "cell_type": "markdown",
   "id": "0537a686",
   "metadata": {},
   "source": [
    "# Capitalize!"
   ]
  },
  {
   "cell_type": "code",
   "execution_count": null,
   "id": "d88b4a70",
   "metadata": {},
   "outputs": [],
   "source": [
    "def solve(s):\n",
    "    result=[]\n",
    "    for i in range(len(s)):\n",
    "        # if at first position or if the character is a non-space preceded by a space, then we make it UPPERCASE\n",
    "        if i==0 or (s[i-1]==\" \" and s[i]!=\" \"):\n",
    "            result.append(s[i].upper())\n",
    "        else: \n",
    "            result.append(s[i])\n",
    "    # cast to string\n",
    "    result = \"\".join(result)\n",
    "    return result\n",
    "\n",
    "\n",
    "if __name__ == '__main__':\n",
    "    fptr = open(os.environ['OUTPUT_PATH'], 'w')\n",
    "\n",
    "    s = input()\n",
    "\n",
    "    result = solve(s)\n",
    "\n",
    "    fptr.write(result + '\\n')\n",
    "\n",
    "    fptr.close()"
   ]
  },
  {
   "cell_type": "markdown",
   "id": "b5125a62",
   "metadata": {},
   "source": [
    "# The Minion Game\n",
    "**Acknowledgment:** asked ChatGPT how to easily store all upercase letters; first attempt was suboptimal and too slow for some test cases; final attempt has the main idea inspired by the \"Discussion\" section"
   ]
  },
  {
   "cell_type": "code",
   "execution_count": null,
   "id": "31cad23e",
   "metadata": {},
   "outputs": [],
   "source": [
    "import string\n",
    "\n",
    "\n",
    "def minion_game(word):\n",
    "\n",
    "    # define sets of vowels and consonants\n",
    "    letters = set(string.ascii_uppercase)\n",
    "    vowels = {\"A\",\"E\",\"I\",\"O\",\"U\"}\n",
    "    consonants = letters-vowels    \n",
    "\n",
    "    # set initial scores to 0\n",
    "    Stuart = Kevin = 0\n",
    "\n",
    "    # for every consonant in the word, Stuart gets a number of point equal to the number of characters till the end of the word\n",
    "    # same for vowels and Kevin\n",
    "    for i in range(len(word)):\n",
    "        points = (len(word)-i)\n",
    "        if word[i] in consonants: \n",
    "            Stuart += points  \n",
    "        else: \n",
    "            Kevin += points\n",
    "    \n",
    "    # output the outcame\n",
    "    if Stuart>Kevin:\n",
    "        print(\"Stuart\", Stuart)\n",
    "    elif Kevin>Stuart:\n",
    "        print(\"Kevin\", Kevin)\n",
    "    else: \n",
    "        print(\"Draw\")\n",
    "            \n",
    "\n",
    "if __name__ == '__main__':\n",
    "    s = input()\n",
    "    minion_game(s)"
   ]
  },
  {
   "cell_type": "markdown",
   "id": "29b93775",
   "metadata": {},
   "source": [
    "# Merge the Tools!"
   ]
  },
  {
   "cell_type": "code",
   "execution_count": null,
   "id": "986ad7c2",
   "metadata": {},
   "outputs": [],
   "source": [
    "def merge_the_tools(s, k):\n",
    "\n",
    "    n = len(s)\n",
    "    q = n//k\n",
    "\n",
    "    for i in range(q):\n",
    "\n",
    "        # initialize the final substring s_s\n",
    "        s_s = \"\"\n",
    "\n",
    "        # cycle over the substring of lenght q\n",
    "        for c in s[i*k:(i+1)*k]:\n",
    "\n",
    "            # for every character in the substring of lenght q, if it's not already in s_s, then add it to s_s\n",
    "            if c not in s_s:\n",
    "                s_s += c\n",
    "                \n",
    "        print(s_s)\n",
    "\n",
    "\n",
    "if __name__ == '__main__':\n",
    "    string, k = input(), int(input())\n",
    "    merge_the_tools(string, k)"
   ]
  },
  {
   "cell_type": "markdown",
   "id": "805e65c2",
   "metadata": {},
   "source": [
    "# Introduction to Sets"
   ]
  },
  {
   "cell_type": "code",
   "execution_count": null,
   "id": "f3b8b056",
   "metadata": {},
   "outputs": [],
   "source": [
    "def average(array):\n",
    "\n",
    "    # cast the input array as a set to get rid of repeated values\n",
    "    heights = set(array)\n",
    "\n",
    "    # calculate and return the mean(average)\n",
    "    mean = 0\n",
    "    for h in heights:\n",
    "        mean += h\n",
    "    return mean/len(heights)\n",
    "\n",
    "\n",
    "\n",
    "if __name__ == '__main__':\n",
    "    n = int(input())\n",
    "    arr = list(map(int, input().split()))\n",
    "    result = average(arr)\n",
    "    print(result)"
   ]
  },
  {
   "cell_type": "markdown",
   "id": "4ae631b0",
   "metadata": {},
   "source": [
    "# No Idea!"
   ]
  },
  {
   "cell_type": "code",
   "execution_count": null,
   "id": "e7d7d65c",
   "metadata": {},
   "outputs": [],
   "source": [
    "#   n and m are not actually useful, so we don't waste memory with them\n",
    "input() \n",
    "\n",
    "#   the values of the vector and the sets are integer, but for our purpose there's no need to cast them\n",
    "s = input().split(\" \")\n",
    "A = set(input().split(\" \"))\n",
    "B = set(input().split(\" \"))\n",
    "\n",
    "# initialize happiness score to 0\n",
    "hap = 0\n",
    "\n",
    "# +1 for every element in A, -1 for every element in B\n",
    "for i in s:\n",
    "    if i in A:\n",
    "        hap+=1\n",
    "    if i in B:\n",
    "        hap-=1\n",
    "\n",
    "print(hap)"
   ]
  },
  {
   "cell_type": "markdown",
   "id": "cf6c53d3",
   "metadata": {},
   "source": [
    "# Symmetric Difference"
   ]
  },
  {
   "cell_type": "code",
   "execution_count": null,
   "id": "48b226ad",
   "metadata": {},
   "outputs": [],
   "source": [
    "# M and N are not useful for our purpose, we only need the space separated integers of the sets s and t\n",
    "input()     # this is N\n",
    "s = set(map(int, input().split()))\n",
    "input()     # this is M\n",
    "t = set(map(int, input().split()))\n",
    "\n",
    "# the simmetric difference is the union minus the intersection\n",
    "d = s.union(t).difference(s.intersection(t))\n",
    "\n",
    "# we cast d as a list, so we can sort it\n",
    "d = list(d)\n",
    "d.sort()\n",
    "\n",
    "# print the result\n",
    "for i in d:\n",
    "    print(i)\n"
   ]
  },
  {
   "cell_type": "markdown",
   "id": "e66e7bde",
   "metadata": {},
   "source": [
    "# Set .add()"
   ]
  },
  {
   "cell_type": "code",
   "execution_count": null,
   "id": "ea3ea52f",
   "metadata": {},
   "outputs": [],
   "source": [
    "# initialize the set of countries\n",
    "countries = set()\n",
    "\n",
    "# first input is the number of next inputs\n",
    "for i in range(int(input())):\n",
    "    countries.add(input())\n",
    "\n",
    "# print the total number of distinct country inputted\n",
    "print(len(countries))"
   ]
  },
  {
   "cell_type": "markdown",
   "id": "21f1e0fd",
   "metadata": {},
   "source": [
    "# Set .discard(), .remove() & .pop()"
   ]
  },
  {
   "cell_type": "code",
   "execution_count": null,
   "id": "7ef70919",
   "metadata": {},
   "outputs": [],
   "source": [
    "input() #we do not need n, wich is the cardinality of the sets\n",
    "s = set(map(int, input().split()))\n",
    "\n",
    "# input the number N of next commands\n",
    "N = int(input())\n",
    "\n",
    "for i in range(N):\n",
    "\n",
    "    # let's store the command in c\n",
    "    c = input().split() \n",
    "\n",
    "    # perform the action of the given command\n",
    "    if c[0] == \"pop\":\n",
    "        # prevent to pop from emptyset\n",
    "        if s:   \n",
    "            s.pop()\n",
    "    elif c[0] == \"remove\":\n",
    "        # prevent key error\n",
    "        if int(c[1]) in s:   \n",
    "            s.remove(int(c[1]))\n",
    "    else:\n",
    "        s.discard(int(c[1]))\n",
    "\n",
    "# count and print the sum of the integers in s\n",
    "sum = 0\n",
    "for i in list(s): \n",
    "    sum += int(i)\n",
    "print(sum)"
   ]
  },
  {
   "cell_type": "markdown",
   "id": "e826014f",
   "metadata": {},
   "source": [
    "# Set .union() Operation"
   ]
  },
  {
   "cell_type": "code",
   "execution_count": null,
   "id": "00214b3b",
   "metadata": {},
   "outputs": [],
   "source": [
    "# we don't need the first and the third inputs, wich are the numbers of students in each set\n",
    "# we store the roll number of students subscribed to the english newspaper (eng) and the french one (fre)\n",
    "input() \n",
    "eng = set(input().split())\n",
    "input()\n",
    "fre = set(input().split())\n",
    "\n",
    "# as requested, we print how many students have at least one of the subscription, wich is the cardinality of the union of the two sets\n",
    "print(len(eng|fre))"
   ]
  },
  {
   "cell_type": "markdown",
   "id": "646371d0",
   "metadata": {},
   "source": [
    "# Set .intersection() Operation"
   ]
  },
  {
   "cell_type": "code",
   "execution_count": null,
   "id": "a1441fbe",
   "metadata": {},
   "outputs": [],
   "source": [
    "# we don't need the first and the third inputs, wich are the numbers of students in each set\n",
    "# we store the roll number of students subscribed to the english newspaper (eng) and the french one (fre)\n",
    "input() \n",
    "eng = set(input().split())\n",
    "input()\n",
    "fre = set(input().split())\n",
    "\n",
    "# as requested, we print how many students have both the subscription, wich is the cardinality of the intersection of the two sets\n",
    "print(len(eng&fre))"
   ]
  },
  {
   "cell_type": "markdown",
   "id": "923632d8",
   "metadata": {},
   "source": [
    "# Set .difference() Operation"
   ]
  },
  {
   "cell_type": "code",
   "execution_count": null,
   "id": "c1d8fb66",
   "metadata": {},
   "outputs": [],
   "source": [
    "# we don't need the first and the third inputs, wich are the numbers of students in each set\n",
    "# we store the roll number of students subscribed to the english newspaper (eng) and the french one (fre)\n",
    "input() \n",
    "eng = set(input().split())\n",
    "input()\n",
    "fre = set(input().split())\n",
    "\n",
    "# as requested, we print how many students have only the english subscription, wich is the cardinality of the set difference eng-fre\n",
    "print(len(eng-fre))"
   ]
  },
  {
   "cell_type": "markdown",
   "id": "996ea3b6",
   "metadata": {},
   "source": [
    "# Set .symmetric_difference() Operation"
   ]
  },
  {
   "cell_type": "code",
   "execution_count": null,
   "id": "b61f1cde",
   "metadata": {},
   "outputs": [],
   "source": [
    "# we don't need the first and the third inputs, wich are the numbers of students in each set\n",
    "# we store the roll number of students subscribed to the english newspaper (eng) and the french one (fre)\n",
    "input() \n",
    "eng = set(input().split())\n",
    "input()\n",
    "fre = set(input().split())\n",
    "\n",
    "# as requested, we print how many students have only one subscription, wich is the cardinality of the simmetric difference of the two sets\n",
    "print(len(eng^fre))"
   ]
  },
  {
   "cell_type": "markdown",
   "id": "d2efd456",
   "metadata": {},
   "source": [
    "# Check Strict Superset"
   ]
  },
  {
   "cell_type": "code",
   "execution_count": null,
   "id": "1bcfe439",
   "metadata": {},
   "outputs": [],
   "source": [
    "# input set A and number of test sets \n",
    "A = set(input().split())\n",
    "n = int(input())\n",
    "\n",
    "# cond is true iff A is a proper subset of all the other oner one inputted\n",
    "cond = True\n",
    "for i in range(n):\n",
    "    s = set(input().split())\n",
    "    # if one of the set is not a proper subset of A, then the condition is FALSE and we break the loop\n",
    "    if not s<A:\n",
    "        cond = False\n",
    "        break\n",
    "print(cond) "
   ]
  },
  {
   "cell_type": "markdown",
   "id": "215236cd",
   "metadata": {},
   "source": [
    "# Check Subset"
   ]
  },
  {
   "cell_type": "code",
   "execution_count": null,
   "id": "1dd026dc",
   "metadata": {},
   "outputs": [],
   "source": [
    "# input the number of tests\n",
    "T = int(input())\n",
    "\n",
    "for i in range(T):\n",
    "\n",
    "    # we don't need the cardinality of the test sets\n",
    "    input()\n",
    "    A = set(input().split())\n",
    "    input()\n",
    "    B = set(input().split())\n",
    "\n",
    "    # print TRUE iff A is a subset of B, else print FALSE\n",
    "    print(A<=B)"
   ]
  },
  {
   "cell_type": "markdown",
   "id": "30071fb4",
   "metadata": {},
   "source": [
    "# The Captain's Room"
   ]
  },
  {
   "cell_type": "code",
   "execution_count": null,
   "id": "bcf90e06",
   "metadata": {},
   "outputs": [],
   "source": [
    "# we don't need K, the number of members in each group\n",
    "input() \n",
    "\n",
    "# input the room number list\n",
    "# we don't need to store them as integers\n",
    "# we also store the room numbers as a set to have a nonrepeating sample\n",
    "num_list = input().split()  \n",
    "num_set = list(set(num_list))\n",
    "\n",
    "\n",
    "# MAIN IDEA: the Captain's room number is the one that appears only one time\n",
    "\n",
    "\n",
    "# FIRST APPROACH, many failed tests due to timeout: \n",
    "# for n in num_set:\n",
    "#     num_list.remove(n)\n",
    "#     if n not in num_list:\n",
    "#         print(n)\n",
    "#         break\n",
    "\n",
    "\n",
    "# SECOND REVISED APPROACH: make a dictionary (faster) with number of occurencies of each room number, then print the one with 1 occurrency\n",
    "num_count = {}\n",
    "for n in num_set:\n",
    "    num_count[n] = 0\n",
    "for n in num_list:\n",
    "    num_count[n] += 1\n",
    "for n in num_set:\n",
    "    if num_count[n] == 1:\n",
    "        print(n)\n",
    "        break"
   ]
  },
  {
   "cell_type": "markdown",
   "id": "d4c92897",
   "metadata": {},
   "source": [
    "# Set Mutations"
   ]
  },
  {
   "cell_type": "code",
   "execution_count": null,
   "id": "d7882e81",
   "metadata": {},
   "outputs": [],
   "source": [
    "# we don't need the cardinality of A, wich is the first input\n",
    "input() \n",
    "A = set(input().split())\n",
    "\n",
    "# input the number of commands\n",
    "N = int(input())\n",
    "\n",
    "for i in range(N):\n",
    "    # input the command and the cardinality of the next test set\n",
    "    # we discharge the cardinaility: not needed\n",
    "    c = input().split()[0]  \n",
    "\n",
    "    # input the space separeted elements of the test set\n",
    "    s = set(input().split())\n",
    "\n",
    "    # perform action depending on the input command\n",
    "    if c==\"update\":\n",
    "        A|=s\n",
    "    elif c==\"intersection_update\":\n",
    "        A&=s\n",
    "    elif c==\"symmetric_difference_update\":\n",
    "        A^=s\n",
    "    else:\n",
    "        A-=s\n",
    "\n",
    "# as requested, we print the sum of the integers in the resulting set\n",
    "print(sum(list(map(int,A))))"
   ]
  },
  {
   "cell_type": "markdown",
   "id": "83844551",
   "metadata": {},
   "source": [
    "# collections.Counter()"
   ]
  },
  {
   "cell_type": "code",
   "execution_count": null,
   "id": "d9af433d",
   "metadata": {},
   "outputs": [],
   "source": [
    "from collections import Counter \n",
    "\n",
    "\n",
    "# we don't need the first input, wich is the number of shoes\n",
    "input()\n",
    "\n",
    "# input the list oh shoe sizes and store them as a Counter\n",
    "sizes = input().split()\n",
    "sizes = Counter(sizes)\n",
    "\n",
    "# input the number of customers N\n",
    "N = int(input())\n",
    "\n",
    "# initialize the amount of money earned\n",
    "money = 0\n",
    "\n",
    "# for every client, if there's a shoe pair of his size, we sell him at the price he is willing to pay\n",
    "# so we have one less shoe pair of his size and we add the price he paid to the money earned\n",
    "for n in range(N):\n",
    "    size, price = input().split()\n",
    "    if sizes[size]>0:\n",
    "        sizes[size] -= 1\n",
    "        money += int(price)\n",
    "\n",
    "# print the total money earned\n",
    "print(money) \n",
    "    \n"
   ]
  },
  {
   "cell_type": "markdown",
   "id": "32396907",
   "metadata": {},
   "source": [
    "# DefaultDict Tutorial"
   ]
  },
  {
   "cell_type": "code",
   "execution_count": null,
   "id": "03da2b0c",
   "metadata": {},
   "outputs": [],
   "source": [
    "from collections import defaultdict\n",
    "\n",
    "# input the lenght of A and B\n",
    "n, m = map(int, input().split())\n",
    "\n",
    "# initialize a defaultdict with default values wich are lists\n",
    "pos_A = defaultdict(list)\n",
    "\n",
    "# the input is the list of words in A\n",
    "# fow each word a, append to the list with key=a the index i+1, because we are indexing from 1\n",
    "# doing so, we have a decsription of A based on it's words and the positions in wich they appear\n",
    "for i in range(n):\n",
    "    pos_A[input()].append(i+1)\n",
    "\n",
    "for i in range(m):\n",
    "\n",
    "    b = input()\n",
    "\n",
    "    # if the given word b is in A, then we print the positions at wich it appears in A, else we print -1\n",
    "    if pos_A[b]:\n",
    "        print(\" \".join(map(str, pos_A[b])))\n",
    "    else:\n",
    "        print(-1)"
   ]
  },
  {
   "cell_type": "markdown",
   "id": "2176ecdb",
   "metadata": {},
   "source": [
    "# Collections.namedtuple()"
   ]
  },
  {
   "cell_type": "code",
   "execution_count": null,
   "id": "ad302d08",
   "metadata": {},
   "outputs": [],
   "source": [
    "from collections import namedtuple\n",
    "\n",
    "\n",
    "# input the number of students\n",
    "N = int(input())\n",
    "\n",
    "# let's use the first input line to initialize the namedtuple (it also works with space-separated words!)\n",
    "labels = input()  \n",
    "Student = namedtuple(\"Student\", labels)\n",
    "\n",
    "# initialize the sum for calculating the mean\n",
    "mean = 0\n",
    "\n",
    "# input each student's data and update the sum of the marks\n",
    "for s in range(N):\n",
    "    student = Student(*input().split())\n",
    "    mean += int(student.MARKS)\n",
    "\n",
    "# print the mean formatted to 2 decimal places\n",
    "print(f\"{mean/N : .2f}\")"
   ]
  },
  {
   "cell_type": "markdown",
   "id": "de6a1a83",
   "metadata": {},
   "source": [
    "# Collections.OrderedDict()"
   ]
  },
  {
   "cell_type": "code",
   "execution_count": null,
   "id": "53fb1087",
   "metadata": {},
   "outputs": [],
   "source": [
    "from collections import OrderedDict\n",
    "\n",
    "\n",
    "# initialize the OrderedDict that stores the net_price for every item\n",
    "items = OrderedDict()\n",
    "\n",
    "# input the number of items N\n",
    "N = int(input())\n",
    "\n",
    "# collect info about each item\n",
    "for i in range(N):\n",
    "\n",
    "    # the unpacking operator \"*\" puts all words of the splitted input in \"item\", except the last one that goes in \"price\"\n",
    "    *item, price = input().split()\n",
    "\n",
    "    # recast the list \"item\" as a string\n",
    "    item = \" \".join(item)\n",
    "\n",
    "    # cast the price as integer\n",
    "    price = int(price)\n",
    "\n",
    "    # initialize the key for the item if it's not present\n",
    "    if item not in items:\n",
    "        items[item] = 0\n",
    "\n",
    "    # increase the value of the net_price for the item\n",
    "    items[item] += price\n",
    "\n",
    "# for each item print it's name \"item\" and it's net_price\n",
    "# they are stored in a OrederdDict, so the order will be the one of first occurrence\n",
    "for item, net_price in items.items():\n",
    "    print(item, net_price)"
   ]
  },
  {
   "cell_type": "markdown",
   "id": "189aa73a",
   "metadata": {},
   "source": [
    "# Word Order"
   ]
  },
  {
   "cell_type": "code",
   "execution_count": null,
   "id": "829cd1ac",
   "metadata": {},
   "outputs": [],
   "source": [
    "from collections import OrderedDict\n",
    "\n",
    "\n",
    "# initialize OrderedDict\n",
    "count = OrderedDict()\n",
    "\n",
    "# input the number of words n\n",
    "n = int(input())\n",
    "\n",
    "for i in range(n):\n",
    "\n",
    "    word = input()\n",
    "\n",
    "    # initialize the key for the given word if it's not present\n",
    "    if word not in count:\n",
    "        count[word] = \n",
    "        \n",
    "    # increase the number of occurrencces for the given word\n",
    "    count[word] += 1\n",
    "\n",
    "# print the number of distinct word, which is the number of keys in count\n",
    "print(len(count))\n",
    "\n",
    "# print the number of occurrences of every word in order of appearence\n",
    "print(\" \".join(map(str, count.values())))"
   ]
  },
  {
   "cell_type": "markdown",
   "id": "52de640a",
   "metadata": {},
   "source": [
    "# Collections.deque()"
   ]
  },
  {
   "cell_type": "code",
   "execution_count": null,
   "id": "6050cab8",
   "metadata": {},
   "outputs": [],
   "source": [
    "from collections import deque\n",
    "\n",
    "\n",
    "# initialize the deque\n",
    "d = deque()\n",
    "\n",
    "# input the number of command N\n",
    "N = int(input())\n",
    "\n",
    "\n",
    "for i in range(N):\n",
    "\n",
    "    # store the command in 'c' as a list containing the method and, if applicable, a value\n",
    "    c = input().split() \n",
    "\n",
    "    # store the method in m for better clarity\n",
    "    m = c[0]    \n",
    "\n",
    "    # perform an action depending on the method\n",
    "    if m==\"append\": \n",
    "        d.append(c[1])\n",
    "    elif m==\"appendleft\":\n",
    "        d.appendleft(c[1])\n",
    "    elif m==\"pop\":\n",
    "        d.pop()\n",
    "    elif m==\"popleft\":\n",
    "        d.popleft()\n",
    "    else:\n",
    "        print(\"Exception case, method is:\", m)\n",
    "\n",
    "# print the space separated values in the final deque d\n",
    "print(\" \".join(d))"
   ]
  },
  {
   "cell_type": "markdown",
   "id": "6fcc8554",
   "metadata": {},
   "source": [
    "# Company Logo\n",
    "**Aknowledgment:** I asked ChatGPT how to perform a multi-level sorting"
   ]
  },
  {
   "cell_type": "code",
   "execution_count": null,
   "id": "20079e84",
   "metadata": {},
   "outputs": [],
   "source": [
    "from collections import Counter\n",
    "\n",
    "\n",
    "# input the company name\n",
    "s = input()\n",
    "\n",
    "# make a counter of the letters in the company name\n",
    "count = Counter(s)\n",
    "\n",
    "# sort in descending order of occurrence (idìndex 1), then in alphabetical order (index 0)\n",
    "chars = sorted(count.items(), key = lambda x: (-x[1], x[0]))\n",
    "\n",
    "# print the 3 most common characters, already ordered as requested\n",
    "for i in range(3): \n",
    "    print(chars[i][0], chars[i][1])"
   ]
  },
  {
   "cell_type": "markdown",
   "id": "619b85d5",
   "metadata": {},
   "source": [
    "# Piling Up!"
   ]
  },
  {
   "cell_type": "code",
   "execution_count": null,
   "id": "05fbbb45",
   "metadata": {},
   "outputs": [],
   "source": [
    "from collections import deque\n",
    "\n",
    "\n",
    "# IDEA: if at any point an extreme of the deque is bigger than the previous cube_j, \n",
    "#       then this cube will never be stacked, cause the stacking is decreasing in \n",
    "#       size, so in that case the answer is NO. Otherwise stacking the max extreme is \n",
    "#       the best strategy to garantee, if possible, to stack all the cubes. \n",
    "\n",
    "# input the number of test cases T\n",
    "T = int(input())\n",
    "\n",
    "for t in range(T):\n",
    "\n",
    "    # we don't need the first input, wich is the number of cubes\n",
    "    input()\n",
    "\n",
    "    # store the cubes value in a deque\n",
    "    cubes = deque(map(int, input().split()))\n",
    "\n",
    "    # choose the best candidate to be piled first\n",
    "    cube_j = max(cubes[0], cubes[-1])\n",
    "    \n",
    "    while(len(cubes)>0):\n",
    "\n",
    "        # if one of the two extreme is bigger than the last piled cube, then it's not possible to stack the cubes\n",
    "        if max(cubes[0], cubes[-1])>cube_j:\n",
    "            print(\"No\")\n",
    "            break\n",
    "\n",
    "        # else, the best strategy is to stack the maximum of the two extreme\n",
    "        elif cubes[0]>=cubes[-1]:\n",
    "            cube_j = cubes[0]\n",
    "            cubes.popleft()\n",
    "        else:\n",
    "            cube_j = cubes[-1]\n",
    "            cubes.pop()\n",
    "    \n",
    "    # if at the end of the while the deque is empty, then we have piled all the cubes and the answer is Yes\n",
    "    if len(cubes) == 0:\n",
    "        print(\"Yes\")"
   ]
  },
  {
   "cell_type": "markdown",
   "id": "026b4b33",
   "metadata": {},
   "source": [
    "# Calendar Module"
   ]
  },
  {
   "cell_type": "code",
   "execution_count": null,
   "id": "b640e055",
   "metadata": {},
   "outputs": [],
   "source": [
    "import calendar \n",
    "\n",
    "\n",
    "# input the date as MM DD YYYY\n",
    "month, day, year = map(int, input().split())\n",
    "\n",
    "# calendar.weekday return the day of the week as an integer in range(7), where 0 means monday\n",
    "week_day = calendar.weekday(year, month, day)\n",
    "\n",
    "# we can map the integer \"week_day\" to the corrisponding UPPERCASE string by using a list, then print\n",
    "DAYS = [\"MONDAY\", \"TUESDAY\", \"WEDNESDAY\", \n",
    "        \"THURSDAY\", \"FRIDAY\", \"SATURDAY\", \"SUNDAY\"]\n",
    "print(DAYS[week_day])"
   ]
  },
  {
   "cell_type": "markdown",
   "id": "eaf5931d",
   "metadata": {},
   "source": [
    "# Time Delta\n",
    "**Aknowledgment:** searched online for a class to handle time properly"
   ]
  },
  {
   "cell_type": "code",
   "execution_count": null,
   "id": "a0fbff41",
   "metadata": {},
   "outputs": [],
   "source": [
    "import math\n",
    "import os\n",
    "import random\n",
    "import re\n",
    "import sys\n",
    "from datetime import datetime\n",
    "\n",
    "\n",
    "# Complete the time_delta function below.\n",
    "\n",
    "def time_delta(t1, t2):\n",
    "\n",
    "    # strptime get a string representing time and return it as a datetime object\n",
    "    # strptime need a \"format\" argument, wich tells the function how is time being represented in the input string\n",
    "    format = \"%a %d %b %Y %H:%M:%S %z\"\n",
    "    t1, t2 = datetime.strptime(t1, format), datetime.strptime(t2, format)\n",
    "\n",
    "    # the delta of two datetime object is calculated with \"-\"\n",
    "    # total_seconds() convert it in seconds as float, then we need to cast float -> integer -> string\n",
    "    return str(int(abs((t1 - t2).total_seconds())))  \n",
    "\n",
    "\n",
    "if __name__ == '__main__':\n",
    "    fptr = open(os.environ['OUTPUT_PATH'], 'w')\n",
    "    t = int(input())\n",
    "    for t_itr in range(t):\n",
    "        t1 = input()\n",
    "        t2 = input()\n",
    "        delta = time_delta(t1, t2)\n",
    "        fptr.write(delta + '\\n')\n",
    "    fptr.close()"
   ]
  },
  {
   "cell_type": "markdown",
   "id": "dbd0cb58",
   "metadata": {},
   "source": [
    "# Exceptions"
   ]
  },
  {
   "cell_type": "code",
   "execution_count": null,
   "id": "5b6dccf3",
   "metadata": {},
   "outputs": [],
   "source": [
    "# input number of test cases T\n",
    "T = int(input())\n",
    "\n",
    "for t in range(T):\n",
    "\n",
    "    # Input two allegedly integer values \n",
    "    a, b = input().split()\n",
    "\n",
    "    # try to cast them as integers, handle ValueError if conversion fails\n",
    "    try: \n",
    "        a, b = int(a), int(b)\n",
    "    except ValueError as e: \n",
    "        print(\"Error Code:\", e)\n",
    "        continue\n",
    "\n",
    "    # attempt integer division, handle ZeroDivisionError if division by zero occurs\n",
    "    try: \n",
    "        print(a//b)\n",
    "    except ZeroDivisionError as e:\n",
    "        print(\"Error Code:\", e)"
   ]
  },
  {
   "cell_type": "markdown",
   "id": "38738a12",
   "metadata": {},
   "source": [
    "# Zipped!"
   ]
  },
  {
   "cell_type": "code",
   "execution_count": null,
   "id": "9b67a4dc",
   "metadata": {},
   "outputs": [],
   "source": [
    "# input the numbers of students and subjects, N and X\n",
    "# actually, we don't need N\n",
    "X = int(input().split()[1])\n",
    "\n",
    "# initialize an empty list for the subjects\n",
    "subjects = []\n",
    "\n",
    "# for every subject, store in \"subjects\" the scores of each student as a list, so \"subjects\" is a list of lists\n",
    "for x in range(X):\n",
    "    subjects.append(map(float, input().split()))\n",
    "\n",
    "# by zipping we are basically transposing the matrix of the datas, so we can then iterate over the students instead of the subjects\n",
    "students = zip(*subjects)\n",
    "for s in students:\n",
    "    print(sum(s)/X)"
   ]
  },
  {
   "cell_type": "markdown",
   "id": "035fe92f",
   "metadata": {},
   "source": [
    "# Athlete Sort"
   ]
  },
  {
   "cell_type": "code",
   "execution_count": null,
   "id": "06193865",
   "metadata": {},
   "outputs": [],
   "source": [
    "# input the numbers of athletes and attributes, N and M\n",
    "# actually, we don't need M\n",
    "N = int(input().split()[0])\n",
    "\n",
    "# initialize an empty list for the athletes\n",
    "athletes = []\n",
    "\n",
    "# for every athlete we store his attribute as a list \n",
    "for n in range(N):\n",
    "    athletes.append(list(map(int, input().split())))\n",
    "\n",
    "# input the number corresponding to the attribute to use for sorting\n",
    "K = int(input())\n",
    "\n",
    "# sort by the K-th attribute\n",
    "athletes.sort(key = lambda x: x[K])\n",
    "\n",
    "# for each athlete (in order), print his attributes\n",
    "for a in athletes:\n",
    "    print(*a)"
   ]
  },
  {
   "cell_type": "markdown",
   "id": "c7ccee88",
   "metadata": {},
   "source": [
    "# ginortS"
   ]
  },
  {
   "cell_type": "code",
   "execution_count": null,
   "id": "57f76bf7",
   "metadata": {},
   "outputs": [],
   "source": [
    "# create a string with all the possible character sorted as requested\n",
    "ord_str = \"abcdefghijklmnopqrstuvwxyzABCDEFGHIJKLMNOPQRSTUVWXYZ1357902468\"\n",
    "\n",
    "# create a dicitonary that map to every character it's corresponding position in \"ord_str\"\n",
    "ord_ind = {char: ind for ind, char in enumerate(ord_str)} \n",
    "\n",
    "# get the input\n",
    "string = input()\n",
    "\n",
    "# sort the string according to the dicitonary values\n",
    "string = \"\".join(sorted(string, key = lambda x: ord_ind[x]))\n",
    "\n",
    "# print the sorted string\n",
    "print(string)"
   ]
  },
  {
   "cell_type": "markdown",
   "id": "1f2ced27",
   "metadata": {},
   "source": [
    "# Map and Lambda Function"
   ]
  },
  {
   "cell_type": "code",
   "execution_count": null,
   "id": "c18dc488",
   "metadata": {},
   "outputs": [],
   "source": [
    "# lambda function to cube a number\n",
    "cube = lambda x: x**3\n",
    "\n",
    "\n",
    "# returns the n-th Fibonacci number\n",
    "def fibonacci(n):\n",
    "\n",
    "    # initialize list of ibonacci numbers\n",
    "    fib = []\n",
    "\n",
    "    # manage special case n=0\n",
    "    if n==0:\n",
    "        return fib\n",
    "    \n",
    "    # if n>0 the first number is 0\n",
    "    fib.append(0)\n",
    "\n",
    "    # if n=1 we return the list [0]\n",
    "    if n==1:\n",
    "        return fib    \n",
    "\n",
    "    # if n>1 there's also 1    \n",
    "    fib.append(1)\n",
    "\n",
    "    # if n=2 reuturn [0,1]\n",
    "    if n==2:\n",
    "        return fib\n",
    "    \n",
    "    # if n>2, we can start iterating\n",
    "    for i in range(n-2):\n",
    "        fib.append(fib[i]+fib[i+1])\n",
    "    \n",
    "    return fib\n",
    "            \n",
    "\n",
    "if __name__ == '__main__':\n",
    "    n = int(input())\n",
    "    print(list(map(cube, fibonacci(n))))"
   ]
  },
  {
   "cell_type": "markdown",
   "id": "16156469",
   "metadata": {},
   "source": [
    "# Detect Floating Point Number\n",
    "**Aknowledgment:** asked ChatGPT about clarification on string literal and wich character has to be escaped in wich context (in this case, the dot \".\" needed to be since otherwise it would have indicated any character)"
   ]
  },
  {
   "cell_type": "code",
   "execution_count": null,
   "id": "6de22662",
   "metadata": {},
   "outputs": [],
   "source": [
    "import re\n",
    "\n",
    "\n",
    "# input the number of test cases T\n",
    "T = int(input())\n",
    "\n",
    "# define the regex to detect a floating point number: \n",
    "    # an optional sign: [+-]?\n",
    "    # followed by an arbitrary long (optional) sequence of digits: \\d*\n",
    "    # then a dot: \\.\n",
    "    # followed by an arbitrary long (non optional) sequence of digits: \\d+\n",
    "regex = r\"[+-]?\\d*\\.\\d+\"\n",
    "\n",
    "# for every test, print if there's a full match (as boolean)\n",
    "for t in range(T):\n",
    "    print(bool(re.fullmatch(regex, input())))"
   ]
  },
  {
   "cell_type": "markdown",
   "id": "f528434b",
   "metadata": {},
   "source": [
    "# Re.split()"
   ]
  },
  {
   "cell_type": "code",
   "execution_count": null,
   "id": "ed5f2520",
   "metadata": {},
   "outputs": [],
   "source": [
    "import re\n",
    "\n",
    "\n",
    "# define the regex to match single commas or dot\n",
    "regex_pattern = r\"[,\\.]\"\t\n",
    "\n",
    "print(\"\\n\".join(re.split(regex_pattern, input())))"
   ]
  },
  {
   "cell_type": "markdown",
   "id": "0108f26b",
   "metadata": {},
   "source": [
    "# Group(), Groups() & Groupdict()"
   ]
  },
  {
   "cell_type": "code",
   "execution_count": null,
   "id": "18067357",
   "metadata": {},
   "outputs": [],
   "source": [
    "import re\n",
    "\n",
    "\n",
    "# define the regex to match any digit/letter followed by himself: \n",
    "# here () indicate a group, \\1 indicate the same value as the one matched in the first (and only) group\n",
    "regex = r\"([0-9a-zA-Z])\\1\"\n",
    "\n",
    "# store in the list l all the matches of the regex with the input\n",
    "# the matches are with of the group ([0-9a-zA-Z]), so the repeating character is stored as a single character\n",
    "l = re.findall(regex, input())\n",
    "\n",
    "# if there's a match, i.e. a repeating character, print the first one\n",
    "if l:\n",
    "    print(l[0])\n",
    "\n",
    "# else print -1\n",
    "else:\n",
    "    print(-1)\n"
   ]
  },
  {
   "cell_type": "markdown",
   "id": "3389a0f9",
   "metadata": {},
   "source": [
    "# Re.findall() & Re.finditer()\n",
    "**Aknowledgment:** asked ChatGPT about clarification on lookahead and lookbehind"
   ]
  },
  {
   "cell_type": "code",
   "execution_count": null,
   "id": "34fbd8ae",
   "metadata": {},
   "outputs": [],
   "source": [
    "import re\n",
    "\n",
    "\n",
    "# define the regex to find a string of at least 2 vowels between two consonants: \n",
    "regex = r\"(?<=[^\\W\\dAEIOUaeiou])[AEIOUaeiou]{2,}(?=[^\\W\\dAEIOUaeiou])\"\n",
    "    # [AEIOUaeiou]{2,} means at least 2 vowels\n",
    "    # \\W is anything that's not a letter nor a digit and ^ is the negation\n",
    "    # [^\\W\\dAEIOUaeiou] means anything wich is a letter or a digit, but not a digit nor a vowel, so a consonant\n",
    "    # (?<=[^\\W\\dAEIOUaeiou]) this search only for matches preceded by a consonant\n",
    "    # (?=[^\\W\\dAEIOUaeiou]) this search for matches after wich there's a consonant\n",
    "\n",
    "# store in the list l all the matches\n",
    "l = re.findall(regex, input())\n",
    "\n",
    "# if there's a match (l is nonempty) print them all, else print -1\n",
    "if l:\n",
    "    print(*l, sep=\"\\n\")\n",
    "else:\n",
    "    print(-1)"
   ]
  },
  {
   "cell_type": "markdown",
   "id": "0d23b304",
   "metadata": {},
   "source": [
    "# Re.start() & Re.end()\n",
    "**Aknowledgments: ** Asked ChatGPT about the mechanism of re.objects that prevent them to find overlapping substrings and how to overcome it (tldr: with a lookafter). Also asked about iterator object (m) and why they are TRUE even when empty: the condition \"if m\" was always satisfied, even when there was no match. "
   ]
  },
  {
   "cell_type": "code",
   "execution_count": null,
   "id": "c6d0c7a8",
   "metadata": {},
   "outputs": [],
   "source": [
    "import re\n",
    "\n",
    "\n",
    "# store the string and the substring to find\n",
    "string = input()\n",
    "substring = input()\n",
    "\n",
    "# by using a lookafter group, the character in the match are not consumed and overlapping substring are correctly identified\n",
    "regex = \"(?=\" + substring + \")\"\n",
    "\n",
    "# store the iterator object of the matches in m\n",
    "m = re.finditer(regex, string)\n",
    "\n",
    "# extract the index of every match with .start(), storing them in the list l\n",
    "l = list(map(lambda x: x.start(), m))\n",
    "\n",
    "# if there's a match (l is nonempty), print the starting and ending index of the substring occurrence, else print (-1,-1)\n",
    "if l:\n",
    "    for i in l:\n",
    "        print(f\"({i}, {i+len(substring)-1})\")\n",
    "else:\n",
    "    print(\"(-1, -1)\")      \n"
   ]
  },
  {
   "cell_type": "markdown",
   "id": "51f5e9f3",
   "metadata": {},
   "source": [
    "# Regex Substitution"
   ]
  },
  {
   "cell_type": "code",
   "execution_count": null,
   "id": "08b4f697",
   "metadata": {},
   "outputs": [],
   "source": [
    "import re\n",
    "\n",
    "# define regex that matches \"&&\" or \"||\", but only if between two spaces \" \"\n",
    "regex = r\"(?<= )(&&|\\|\\|)(?= )\"\n",
    "\n",
    "# input the number of test cases N\n",
    "N = int(input())\n",
    "\n",
    "for n in range(N):\n",
    "\n",
    "    # input the test string\n",
    "    string = input()\n",
    "\n",
    "    # substitute the match with:    \"&&\" -> \"and\"    \"||\" -> \"or\"\n",
    "    string = re.sub(regex, lambda x: \"and\" if x.group()==\"&&\" else \"or\", string)\n",
    "\n",
    "    # print the modified string\n",
    "    print(string)"
   ]
  },
  {
   "cell_type": "markdown",
   "id": "42d214c2",
   "metadata": {},
   "source": [
    "# Validating Roman Numerals\n",
    "**Aknowledgment:** the official Wikipedia page about Roman Numerals was really helpful to came up with a working regex rule"
   ]
  },
  {
   "cell_type": "code",
   "execution_count": null,
   "id": "4b1bd11d",
   "metadata": {},
   "outputs": [],
   "source": [
    "import re\n",
    "\n",
    "\n",
    "# REGEX IDEA: \n",
    "    # divided by groups of units, tens, hundreds and thousands\n",
    "    # each group has a similar structure (except thousands)\n",
    "    # e.g. fo the units group: \n",
    "        # it's either \"\", \"I\", \"II\", \"III\", \"V\", \"VI\", \"VII\", \"VIII\", or one of \"IV\" or \"IX\"\n",
    "        # the first eight possibility are a sequence of 0 to 3 \"I\", preceded by an optional \"V\", so (V?I{0,3})\n",
    "        # the remaining two cases are included by the \"|\" or operator, so in the end (V?I{0,3}|IV|IX)\n",
    "    # we need a dollar symbol \"$\" at the end to prevent the match to be like \"XIIII\": the \"XIII\" would match otherwise\n",
    "regex_pattern = r\"M{0,3}(D?C{0,3}|CD|CM)(L?X{0,3}|XL|XC)(V?I{0,3}|IV|IX)$\"\n",
    "\n",
    "print(str(bool(re.match(regex_pattern, input()))))"
   ]
  },
  {
   "cell_type": "markdown",
   "id": "9dfc48c3",
   "metadata": {},
   "source": [
    "# Validating phone numbers"
   ]
  },
  {
   "cell_type": "code",
   "execution_count": null,
   "id": "a9d0dee8",
   "metadata": {},
   "outputs": [],
   "source": [
    "import re\n",
    "\n",
    "\n",
    "# the regex should match a prefix 7,8 or 9 followed by 9 digits\n",
    "regex = r\"[789]\\d{9}$\"\n",
    "\n",
    "# input the number of test cases N\n",
    "N = int(input())\n",
    "\n",
    "# for each test case, print if there's a match\n",
    "for n in range(N):\n",
    "    if bool(re.match(regex, input())):\n",
    "        print(\"YES\")\n",
    "    else:\n",
    "        print(\"NO\")"
   ]
  },
  {
   "cell_type": "markdown",
   "id": "7a962989",
   "metadata": {},
   "source": [
    "# Validating and Parsing Email Addresses"
   ]
  },
  {
   "cell_type": "code",
   "execution_count": null,
   "id": "4c07e2c5",
   "metadata": {},
   "outputs": [],
   "source": [
    "import re\n",
    "\n",
    "\n",
    "# the match should: \n",
    "    # begin with a letter\n",
    "    # followed by an arbitrary long sequence of letters or \".\", \"-\", \"_\" characters\n",
    "    # then a \"@\" character\n",
    "    # then an arbitrary long (non optional) sequence of letters\n",
    "    # then a point \".\"\n",
    "    # then a 3 letter extension\n",
    "# \\w already include the character \"_\"\n",
    "regex = r\"<[a-zA-Z][\\w.-]*@[a-zA-Z]+\\.[a-zA-Z]{1,3}>$\"\n",
    "\n",
    "# input the number of test cases N\n",
    "N = int(input())\n",
    "\n",
    "for n in range(N):\n",
    "\n",
    "    # store the list [name, <user@email.com>]\n",
    "    l = input().split()\n",
    "\n",
    "    # if there's a match with the email, print name and <user@email.com>\n",
    "    m = re.match(regex, l[1])\n",
    "    if m:\n",
    "        print(l[0], l[1])"
   ]
  },
  {
   "cell_type": "markdown",
   "id": "083f5c72",
   "metadata": {},
   "source": [
    "# Hex Color Code\n",
    "**Aknowledgment:** had a problem with .findall outputting just last 3 digits of a 6 digit color, solved seeing python.org documentation of re.findall (needed non-capt. group)"
   ]
  },
  {
   "cell_type": "code",
   "execution_count": null,
   "id": "27186ab2",
   "metadata": {},
   "outputs": [],
   "source": [
    "import re\n",
    "\n",
    "\n",
    "# REGEX IDEA: check if the alleged color is before a \"}\" parenthesis and not before a \"{\" one\n",
    "regex = r\"#[\\da-fA-F]{3}(?:[\\da-fA-F]{3})?(?=[^\\{]*\\})\"\n",
    "\n",
    "# input the number of lines and store all the input lines in \"l\", then cast it as a string in \"code\"\n",
    "N = int(input())\n",
    "l = []\n",
    "for n in range(N):\n",
    "    l.append(input())\n",
    "code = \"\\n\".join(l)\n",
    "\n",
    "# if there's a match, print them all on separated lines\n",
    "l = re.findall(regex, code)\n",
    "if l:\n",
    "    print(*l, sep=\"\\n\")"
   ]
  },
  {
   "cell_type": "markdown",
   "id": "758e93d0",
   "metadata": {},
   "source": [
    "# HTML Parser - Part 1\n",
    "**Aknowledgment:** asked ChatGPT why the sample code Hackerrank gave wasn't working: it was for python 2, so \"HTMLParser\" should have been \"html.parser\""
   ]
  },
  {
   "cell_type": "code",
   "execution_count": null,
   "id": "85a0db18",
   "metadata": {},
   "outputs": [],
   "source": [
    "from html.parser import HTMLParser\n",
    "\n",
    "\n",
    "# define custom actions for different types of HTML tags by subclassing HTMLParser (function names are self explanatory)\n",
    "class MyHTMLParser(HTMLParser):\n",
    "\n",
    "    def handle_starttag(self, tag, attrs):\n",
    "        print(\"Start :\", tag)\n",
    "        if attrs:\n",
    "            for att, val in attrs:\n",
    "                print(\"->\", att, \">\", val)\n",
    "\n",
    "    def handle_endtag(self, tag):\n",
    "        print(\"End   :\", tag)\n",
    "\n",
    "    def handle_startendtag(self, tag, attrs):\n",
    "        print(\"Empty :\", tag)\n",
    "        if attrs:\n",
    "            for att, val in attrs:\n",
    "                print(\"->\", att, \">\", val)\n",
    "\n",
    "\n",
    "# create an instance of MyHTMLParser\n",
    "parser = MyHTMLParser()\n",
    "\n",
    "# input the number of lines of HTML code, then parse each line\n",
    "N = int(input())\n",
    "for n in range(N):\n",
    "    parser.feed(input())"
   ]
  },
  {
   "cell_type": "markdown",
   "id": "13ad7f9b",
   "metadata": {},
   "source": [
    "# HTML Parser - Part 2\n",
    "**Aknowledgment:** asked ChatGPT why data are detected where there is a newline"
   ]
  },
  {
   "cell_type": "code",
   "execution_count": null,
   "id": "42788878",
   "metadata": {},
   "outputs": [],
   "source": [
    "from html.parser import HTMLParser\n",
    "\n",
    "\n",
    "# define custom actions for handling comments and data by subclassing HTMLParser (function names are self explanatory)\n",
    "class MyHTMLParser(HTMLParser):\n",
    "\n",
    "    def handle_comment(self, data):\n",
    "        data = data.split(\"\\n\")\n",
    "        if len(data) == 1:\n",
    "            print(\">>> Single-line Comment  \")\n",
    "            print(data[0])\n",
    "        else:\n",
    "            print(\">>> Multi-line Comment  \")\n",
    "            for i in range(len(data)):\n",
    "                print(data[i])\n",
    "\n",
    "    def handle_data(self, data):\n",
    "        # handle data detection when there's a newline\n",
    "        if data.rstrip():\n",
    "            print(\">>> Data\")\n",
    "            print(data)\n",
    "\n",
    "\n",
    "# store the HTML code in the \"html\" string\n",
    "html = \"\"       \n",
    "for i in range(int(input())):\n",
    "    html += input().rstrip()\n",
    "    html += '\\n'  \n",
    "\n",
    "# create an instance of MyHTMLParser\n",
    "parser = MyHTMLParser()\n",
    "\n",
    "# parse the code\n",
    "parser.feed(html)\n",
    "parser.close()"
   ]
  },
  {
   "cell_type": "markdown",
   "id": "945c3490",
   "metadata": {},
   "source": [
    "# Detect HTML Tags, Attributes and Attribute Values"
   ]
  },
  {
   "cell_type": "code",
   "execution_count": null,
   "id": "5b5517ee",
   "metadata": {},
   "outputs": [],
   "source": [
    "from html.parser import HTMLParser\n",
    "\n",
    "\n",
    "# define custom actions for different types of HTML tags by subclassing HTMLParser (function names are self explanatory)\n",
    "class MyHTMLParser(HTMLParser):\n",
    "\n",
    "    def handle_starttag(self, tag, attrs):\n",
    "        print(tag)\n",
    "        for att, val in attrs:\n",
    "            print(\"->\", att, \">\", val)\n",
    "        \n",
    "    def handle_startendtag(self, tag, attrs):\n",
    "        print(tag)        \n",
    "        for att, val in attrs:\n",
    "            print(\"->\", att, \">\", val)\n",
    "\n",
    "\n",
    "# create an instance of MyHTMLParser\n",
    "parser = MyHTMLParser()\n",
    "\n",
    "# store the code in the \"html\" string\n",
    "html = \"\"\n",
    "for n in range(int(input())):\n",
    "    html += input().rstrip()\n",
    "    html += \"\\n\"\n",
    "\n",
    "# parse the code\n",
    "parser.feed(html)\n"
   ]
  },
  {
   "cell_type": "markdown",
   "id": "a9ac5e80",
   "metadata": {},
   "source": [
    "# Validating UID"
   ]
  },
  {
   "cell_type": "code",
   "execution_count": null,
   "id": "125aad90",
   "metadata": {},
   "outputs": [],
   "source": [
    "import re\n",
    "\n",
    "\n",
    "# loop over input number of iteration\n",
    "for i in range(int(input())):\n",
    "\n",
    "    # store input string\n",
    "    UID = input()\n",
    "\n",
    "    # check if required conditions are satisfied (cond35 condense the 3rd and 5th conditions): \n",
    "        # 1) at least 2 uppercase letters\n",
    "        # 2) at least 3 digits\n",
    "        # 3) only alphanumerical characters\n",
    "        # 4) no repeating character\n",
    "        # 5) 10 characters in total\n",
    "    # \"cond35\" condensed condition 3 and 5 in \n",
    "    cond1 = len(re.findall(r\"[A-Z]\", UID))>=2\n",
    "    cond2 = len(re.findall(r\"[0-9]\", UID))>=3\n",
    "    cond35 = re.match(r\"[0-9a-zA-Z]{10}$\", UID)\n",
    "    cond4 = len(UID)==len(set(UID))\n",
    "\n",
    "    # print validity based on conditions\n",
    "    if cond1 and cond2 and cond35 and cond4:\n",
    "        print(\"Valid\")\n",
    "    else:\n",
    "        print(\"Invalid\")   \n"
   ]
  },
  {
   "cell_type": "markdown",
   "id": "6ec26397",
   "metadata": {},
   "source": [
    "# Validating Credit Card Numbers"
   ]
  },
  {
   "cell_type": "code",
   "execution_count": null,
   "id": "3d6f9a69",
   "metadata": {},
   "outputs": [],
   "source": [
    "import re\n",
    "\n",
    "\n",
    "# FIRST REGEX: credit card starts with digit 4, 5, or 6 and is made of 4 4 digits group, that may be separated by \"-\"\n",
    "rex1 = r\"[4-6]{1}\\d{3}\\-?\\d{4}\\-?\\d{4}\\-?\\d{4}$\"\n",
    "\n",
    "# SECOND REGEX: match only digits wich occur in a group of 4 consecutive repeated digit\n",
    "rex2 = r\"(\\d)\\1{3}\"\n",
    "\n",
    "for i in range(int(input())):\n",
    "\n",
    "    card = input()\n",
    "\n",
    "    # check if the basic structure is valid\n",
    "    cond1 = re.match(rex1, card)\n",
    "\n",
    "    # get rid of \"-\", if there are some\n",
    "    card = \"\".join(card.split(\"-\"))\n",
    "\n",
    "    # check that the credit card number has not 4 or more consecutive repeated digits.\n",
    "    cond2 = not re.search(rex2, card)\n",
    "\n",
    "    # if it's a valid credit card number, print \"Valid\", else print \"Invalid\"\n",
    "    if cond1 and cond2:\n",
    "        print(\"Valid\")\n",
    "    else:\n",
    "        print(\"Invalid\")"
   ]
  },
  {
   "cell_type": "markdown",
   "id": "3fcb97da",
   "metadata": {},
   "source": [
    "# Validating Postal Codes"
   ]
  },
  {
   "cell_type": "code",
   "execution_count": null,
   "id": "878ea447",
   "metadata": {},
   "outputs": [],
   "source": [
    "import re\n",
    "\n",
    "\n",
    "# regex to match the range 100000-900000\n",
    "regex_integer_in_range = r\"[1-9][0-9]{5}$\"\n",
    "\n",
    "# regex to match alternating repetitive digits:    character[C]  another_character[c]  first_character[C]\n",
    "regex_alternating_repetitive_digit_pair = r\"(?=(\\d)\\d\\1)\"\n",
    "\n",
    "P = input()\n",
    "\n",
    "print (bool(re.match(regex_integer_in_range, P)) \n",
    "       and len(re.findall(regex_alternating_repetitive_digit_pair, P)) < 2)"
   ]
  },
  {
   "cell_type": "markdown",
   "id": "568b0709",
   "metadata": {},
   "source": [
    "# Matrix Script"
   ]
  },
  {
   "cell_type": "code",
   "execution_count": null,
   "id": "06da66f3",
   "metadata": {},
   "outputs": [],
   "source": [
    "import re\n",
    "\n",
    "\n",
    "# input the number of rows and columns of the matrix, N and M (we don't need M)\n",
    "N = int(input().split()[0])\n",
    "\n",
    "# initialize and fill the matrix with the input\n",
    "matrix = []\n",
    "for n in range(N):\n",
    "    matrix_item = input()\n",
    "    matrix.append(matrix_item)\n",
    "\n",
    "# transpose the matrix with zip\n",
    "matrix = zip(*matrix)\n",
    "\n",
    "# make matrix a list of strings\n",
    "matrix = [\"\".join(row) for row in matrix]\n",
    "\n",
    "# make matrix a string\n",
    "matrix = \"\".join(matrix)\n",
    "\n",
    "# regex to match unwanted characters (and space \" \") between letters\n",
    "regex = r\"(?<=[a-zA-Z])[ !@#$%&]+(?=[a-zA-Z])\"\n",
    "\n",
    "# perform the substitution of the unwanted characters with a space\n",
    "matrix = re.sub(regex, \" \", matrix)\n",
    "\n",
    "# print the result\n",
    "print(matrix)"
   ]
  },
  {
   "cell_type": "markdown",
   "id": "1f59b3ce",
   "metadata": {},
   "source": [
    "# XML 1 - Find the Score"
   ]
  },
  {
   "cell_type": "code",
   "execution_count": null,
   "id": "01c0b463",
   "metadata": {},
   "outputs": [],
   "source": [
    "import sys\n",
    "import xml.etree.ElementTree as etree\n",
    "\n",
    "\n",
    "# IDEA: use recursion on the hierarchy of the nodes in the tree\n",
    "\n",
    "\n",
    "def get_attr_number(node):\n",
    "\n",
    "    # the number of attributes of each node is the numbers of it's attributes plus the ones of its children\n",
    "    score = len(node.attrib)\n",
    "    for child in node:\n",
    "        score += get_attr_number(child)\n",
    "\n",
    "    return score\n",
    "\n",
    "\n",
    "if __name__ == '__main__':\n",
    "    sys.stdin.readline()\n",
    "    xml = sys.stdin.read()\n",
    "    tree = etree.ElementTree(etree.fromstring(xml))\n",
    "    root = tree.getroot()\n",
    "    print(get_attr_number(root))"
   ]
  },
  {
   "cell_type": "markdown",
   "id": "fe7024ed",
   "metadata": {},
   "source": [
    "# XML2 - Find the Maximum Depth"
   ]
  },
  {
   "cell_type": "code",
   "execution_count": null,
   "id": "0ac929e8",
   "metadata": {},
   "outputs": [],
   "source": [
    "import xml.etree.ElementTree as etree\n",
    "\n",
    "# initialize maxdepth to 0\n",
    "maxdepth = 0\n",
    "\n",
    "\n",
    "def depth(elem, level):\n",
    "\n",
    "    # call maxdepth from outside\n",
    "    global maxdepth\n",
    "\n",
    "    # update the level\n",
    "    level += 1\n",
    "\n",
    "    # if a new maxdepth is reached then we update it\n",
    "    if level>maxdepth:\n",
    "        maxdepth = level\n",
    "\n",
    "    # recursion on children\n",
    "    for child in elem:\n",
    "        depth(child, level)\n",
    "\n",
    "\n",
    "if __name__ == '__main__':\n",
    "    n = int(input())\n",
    "    xml = \"\"\n",
    "    for i in range(n):\n",
    "        xml =  xml + input() + \"\\n\"\n",
    "    tree = etree.ElementTree(etree.fromstring(xml))\n",
    "    depth(tree.getroot(), -1)\n",
    "    print(maxdepth)\n"
   ]
  },
  {
   "cell_type": "markdown",
   "id": "da663fd5",
   "metadata": {},
   "source": [
    "# Standardize Mobile Number Using Decorators"
   ]
  },
  {
   "cell_type": "code",
   "execution_count": null,
   "id": "979859b3",
   "metadata": {},
   "outputs": [],
   "source": [
    "import re\n",
    "\n",
    "\n",
    "def wrapper(f):\n",
    "\n",
    "    def fun(l):\n",
    "\n",
    "        # regex to identify a valid phone number, the group catch the prefix\n",
    "        regex = r\"(^0|^91|^\\+91)(?=[\\d]{10}$)\"\n",
    "\n",
    "        # iteration over l, wich is the argument of the wrapped function f (it's a list)\n",
    "        for i in range(len(l)):\n",
    "\n",
    "            # delete the prefix, add the standard one and the right spacing\n",
    "            l[i] = re.sub(regex, \"\", l[i])\n",
    "            l[i] = \"+91 \" + l[i][:5] + \" \" + l[i][5:]\n",
    "        \n",
    "        return f(l)\n",
    "\n",
    "    return fun\n",
    "\n",
    "\n",
    "@wrapper\n",
    "def sort_phone(l):\n",
    "    print(*sorted(l), sep='\\n')\n",
    "\n",
    "\n",
    "if __name__ == '__main__':\n",
    "    l = [input() for _ in range(int(input()))]\n",
    "    sort_phone(l) "
   ]
  },
  {
   "cell_type": "markdown",
   "id": "f19e6a9b",
   "metadata": {},
   "source": [
    "# Decorators 2 - Name Directory"
   ]
  },
  {
   "cell_type": "code",
   "execution_count": null,
   "id": "2da15215",
   "metadata": {},
   "outputs": [],
   "source": [
    "\n",
    "def person_lister(f):\n",
    "\n",
    "    def inner(people):\n",
    "\n",
    "        # sort people by age (index 2)\n",
    "        people.sort(key = lambda x: int(x[2]))\n",
    "\n",
    "        # initialize list of formatted outputs\n",
    "        format_list = []\n",
    "\n",
    "        # for every person append the corrisponding output, given by the wrapped function f\n",
    "        for person in people: \n",
    "            format_list.append(f(person))\n",
    "            \n",
    "        return format_list   \n",
    "             \n",
    "    return inner\n",
    "\n",
    "\n",
    "@person_lister\n",
    "def name_format(person):\n",
    "    return (\"Mr. \" if person[3] == \"M\" else \"Ms. \") + person[0] + \" \" + person[1]\n",
    "\n",
    "\n",
    "if __name__ == '__main__':\n",
    "    people = [input().split() for i in range(int(input()))]\n",
    "    print(*name_format(people), sep='\\n')\n"
   ]
  },
  {
   "cell_type": "markdown",
   "id": "1e4f5fdc",
   "metadata": {},
   "source": [
    "# Arrays"
   ]
  },
  {
   "cell_type": "code",
   "execution_count": null,
   "id": "75324f6a",
   "metadata": {},
   "outputs": [],
   "source": [
    "import numpy as np\n",
    "\n",
    "# reverse the argument array ant returns it with float values\n",
    "def arrays(arr):\n",
    "    arr.reverse()\n",
    "    return numpy.array(arr,float)\n",
    "\n",
    "\n",
    "arr = input().strip().split(' ')\n",
    "result = arrays(arr)\n",
    "print(result)"
   ]
  },
  {
   "cell_type": "markdown",
   "id": "5e7e98ae",
   "metadata": {},
   "source": [
    "# Shape and Reshape"
   ]
  },
  {
   "cell_type": "code",
   "execution_count": null,
   "id": "ff98c83b",
   "metadata": {},
   "outputs": [],
   "source": [
    "import numpy as np\n",
    "\n",
    "\n",
    "# store input as a list of integers\n",
    "arr = list(map(int, input().split()))\n",
    "\n",
    "# cast it to a numpy array\n",
    "arr = np.array(arr)\n",
    "\n",
    "# modify it's shape\n",
    "arr.shape = (3,3)\n",
    "\n",
    "# print\n",
    "print(arr)"
   ]
  },
  {
   "cell_type": "markdown",
   "id": "57340a51",
   "metadata": {},
   "source": [
    "# Transpose and Flatten"
   ]
  },
  {
   "cell_type": "code",
   "execution_count": null,
   "id": "3871953f",
   "metadata": {},
   "outputs": [],
   "source": [
    "import numpy as np\n",
    "\n",
    "\n",
    "# input number of rows and columns, N and M\n",
    "# actually, we don't need M\n",
    "N = int(input().split()[0])\n",
    "\n",
    "# initialize arr as a list\n",
    "arr = []\n",
    "\n",
    "# fill with inputs as integers\n",
    "for n in range(N): \n",
    "    arr.append(list(map(int, input().split())))\n",
    "\n",
    "# cast arr to a numpy array and print it transposed and flattened\n",
    "arr = np.array(arr)\n",
    "print(np.transpose(arr))\n",
    "print(arr.flatten())"
   ]
  },
  {
   "cell_type": "markdown",
   "id": "b0089c0b",
   "metadata": {},
   "source": [
    "# Concatenate"
   ]
  },
  {
   "cell_type": "code",
   "execution_count": null,
   "id": "71185289",
   "metadata": {},
   "outputs": [],
   "source": [
    "import numpy as np\n",
    "\n",
    "\n",
    "# input number of rows and columns of two matrix (we only need their rows)\n",
    "N, M = map(int, input().split()[0:2])\n",
    "\n",
    "# initialize as lists\n",
    "arr1, arr2 = [], []\n",
    "\n",
    "# fill arr1 and arr2 with inputs\n",
    "for n in range(N):\n",
    "    arr1.append(list(map(int, input().split())))\n",
    "for m in range(M):\n",
    "    arr2.append(list(map(int, input().split())))\n",
    "\n",
    "# cast them as numpy array\n",
    "arr1, arr2 = np.array(arr1), np.array(arr2)\n",
    "\n",
    "# print the concatenation of the two\n",
    "print(np.concatenate((arr1, arr2)))"
   ]
  },
  {
   "cell_type": "markdown",
   "id": "e7fe2639",
   "metadata": {},
   "source": [
    "# Zeros and Ones"
   ]
  },
  {
   "cell_type": "code",
   "execution_count": null,
   "id": "bd02e437",
   "metadata": {},
   "outputs": [],
   "source": [
    "import numpy as np\n",
    "\n",
    "\n",
    "# store the input (array dimension) as a tuple\n",
    "dimension =  tuple(map(int, input().split()))\n",
    "\n",
    "# define and print the array of zeros\n",
    "arr0 = np.zeros(dimension, dtype = int)\n",
    "print(arr0)\n",
    "\n",
    "# define and print the array of ones\n",
    "arr1 = np.ones(dimension, dtype = int)\n",
    "print(arr1)"
   ]
  },
  {
   "cell_type": "markdown",
   "id": "4ddcb87e",
   "metadata": {},
   "source": [
    "# Eye and Identity"
   ]
  },
  {
   "cell_type": "code",
   "execution_count": null,
   "id": "55bef302",
   "metadata": {},
   "outputs": [],
   "source": [
    "import numpy as np\n",
    "\n",
    "# this was suggested by the task\n",
    "np.set_printoptions(legacy=\"1.13\")\n",
    "\n",
    "\n",
    "# input the number of rows and columns, N and M\n",
    "N, M = map(int, input().split())\n",
    "\n",
    "# print the MxN matrix with ones on main diagonal, zeroes anywhere else\n",
    "print(np.eye(N, M))"
   ]
  },
  {
   "cell_type": "markdown",
   "id": "538fe72b",
   "metadata": {},
   "source": [
    "# Array Mathematics"
   ]
  },
  {
   "cell_type": "code",
   "execution_count": null,
   "id": "1a6cb592",
   "metadata": {},
   "outputs": [],
   "source": [
    "import numpy as np\n",
    "\n",
    "\n",
    "# input numbers of rows and columns, N and M (we only need N)\n",
    "N = int(input().split()[0])\n",
    "\n",
    "# initialize two lists\n",
    "A, B = [], []\n",
    "\n",
    "# fill the lists with inputs\n",
    "for n in range(N):\n",
    "    A.append(list(map(int, input().split())))\n",
    "for n in range(N):\n",
    "    B.append(list(map(int, input().split())))\n",
    "\n",
    "# cast them to numpy array\n",
    "A, B = np.array(A), np.array(B)\n",
    "\n",
    "\n",
    "# print the requested array operation\n",
    "print(A + B)\n",
    "print(A - B)\n",
    "print(A * B)\n",
    "print(np.floor_divide(A, B))\n",
    "print(A % B)\n",
    "print(A**B)"
   ]
  },
  {
   "cell_type": "markdown",
   "id": "904d0b47",
   "metadata": {},
   "source": [
    "# Floor, Ceil and Rint"
   ]
  },
  {
   "cell_type": "code",
   "execution_count": null,
   "id": "2c08b494",
   "metadata": {},
   "outputs": [],
   "source": [
    "import numpy as np\n",
    "\n",
    "# this was suggested by the task\n",
    "np.set_printoptions(legacy=\"1.13\")\n",
    "\n",
    "# store input as a numpy 1D array of floats\n",
    "A = list(map(float, input().split()))\n",
    "A = np.array(A)\n",
    "\n",
    "# print the requested operations\n",
    "print(np.floor(A))\n",
    "print(np.ceil(A))\n",
    "print(np.rint(A))"
   ]
  },
  {
   "cell_type": "markdown",
   "id": "6e6d3d18",
   "metadata": {},
   "source": [
    "# Sum and Prod"
   ]
  },
  {
   "cell_type": "code",
   "execution_count": null,
   "id": "aa7bc30d",
   "metadata": {},
   "outputs": [],
   "source": [
    "import numpy as np\n",
    "\n",
    "\n",
    "# input numbers of rows and columns, N and M (we only need N)\n",
    "N = int(input().split()[0])\n",
    "\n",
    "# initialize and fill a list with inputs\n",
    "arr = []\n",
    "for n in range(N):\n",
    "    arr.append(list(map(int, input().split())))\n",
    "\n",
    "# cast it as a numpy 2D array\n",
    "arr = np.array(arr)\n",
    "\n",
    "# sum over axis 0, resulting in a 1D array\n",
    "arr = np.sum(arr, axis= 0)\n",
    "\n",
    "# then get the product of the resulting components, giving an integer number\n",
    "print(np.prod(arr))"
   ]
  },
  {
   "cell_type": "markdown",
   "id": "46053f12",
   "metadata": {},
   "source": [
    "# Min and Max"
   ]
  },
  {
   "cell_type": "code",
   "execution_count": null,
   "id": "f39990c5",
   "metadata": {},
   "outputs": [],
   "source": [
    "import numpy as np\n",
    "\n",
    "\n",
    "# input number of rows and columns, N and M (we only need N)\n",
    "N = int(input().split()[0])\n",
    "\n",
    "# initialize and fill arr, then cast it as a numpy array\n",
    "arr = []\n",
    "for n in range(N):\n",
    "    arr.append(list(map(int, input().split())))\n",
    "arr = np.array(arr)\n",
    "\n",
    "# get the minimum over every columns, resulting in a 1D array\n",
    "arr = np.min(arr, axis=1)\n",
    "\n",
    "# then print the max of the 1D array\n",
    "print(np.max(arr))"
   ]
  },
  {
   "cell_type": "markdown",
   "id": "a0a284a4",
   "metadata": {},
   "source": [
    "# Mean, Var, and Std\n",
    "**Aknowledgment:** I browsed the discussion section because i couldn't understand why my output was incorrect: there was an unmentioned requirement to round the .std (standard deviation) to 11 decimal. Took the occasion to steal the idea to use np.round to solve it. "
   ]
  },
  {
   "cell_type": "code",
   "execution_count": null,
   "id": "f6c02d6a",
   "metadata": {},
   "outputs": [],
   "source": [
    "\n",
    "import numpy as np\n",
    "\n",
    "\n",
    "# input the numbers of ows and columns, N and M (we only need N)\n",
    "N = int(input().split()[0])\n",
    "\n",
    "# fill arr and cast it as a numpy array\n",
    "arr = []\n",
    "for n in range(N):\n",
    "    arr.append(list(map(int, input().split())))\n",
    "arr = np.array(arr)\n",
    "\n",
    "# print the requested 1D arrays\n",
    "print(np.mean(arr, axis=1))\n",
    "print(np.var(arr, axis=0))\n",
    "print(np.round(np.std(arr), 11))"
   ]
  },
  {
   "cell_type": "markdown",
   "id": "c28a995a",
   "metadata": {},
   "source": [
    "# Dot and Cross"
   ]
  },
  {
   "cell_type": "code",
   "execution_count": null,
   "id": "4ee6e130",
   "metadata": {},
   "outputs": [],
   "source": [
    "import numpy as np\n",
    "\n",
    "\n",
    "# input N, the number of rows of the square matrix\n",
    "N = int(input())\n",
    "\n",
    "# initialize, fill and cast the matrix as numpy arrays\n",
    "A, B = [], []\n",
    "for n in range(N):\n",
    "    A.append(list(map(int, input().split())))\n",
    "for n in range(N):\n",
    "    B.append(list(map(int, input().split())))\n",
    "A = np.array(A)\n",
    "B = np.array(B)\n",
    "\n",
    "# initialize the matrix P\n",
    "P = []\n",
    "\n",
    "# P=A*B has components wich are dot product of A rows and B columns\n",
    "# i runs over A rows\n",
    "for i in range(N):      \n",
    "    # j runs over B columns    \n",
    "    for j in range(N): \n",
    "        P.append(np.dot(A[i,:],B[:,j]))\n",
    "\n",
    "# cast P as a numpy array with proper shape (square matrix)\n",
    "P = np.array(P)\n",
    "P.shape = (N, N)\n",
    "\n",
    "# print result\n",
    "print(P)"
   ]
  },
  {
   "cell_type": "markdown",
   "id": "3f6ff79b",
   "metadata": {},
   "source": [
    "# Inner and Outer"
   ]
  },
  {
   "cell_type": "code",
   "execution_count": null,
   "id": "0ed8417b",
   "metadata": {},
   "outputs": [],
   "source": [
    "import numpy as np\n",
    "\n",
    "# fill the vectors with inputs, then cast them as numpy array\n",
    "A = list(map(int, input().split()))\n",
    "B = list(map(int, input().split()))\n",
    "A = np.array(A)\n",
    "B = np.array(B)\n",
    "\n",
    "# print the requested operation\n",
    "print(np.inner(A,B))\n",
    "print(np.outer(A,B))"
   ]
  },
  {
   "cell_type": "markdown",
   "id": "fe3cecf0",
   "metadata": {},
   "source": [
    "# Polynomials"
   ]
  },
  {
   "cell_type": "code",
   "execution_count": null,
   "id": "3355af65",
   "metadata": {},
   "outputs": [],
   "source": [
    "import numpy as np\n",
    "\n",
    "# store the polynomial as a list of coefficients\n",
    "P = list(map(float, input().split()))\n",
    "\n",
    "# store the x\n",
    "x = float(input())\n",
    "\n",
    "# print the evaluation P(x)\n",
    "print(np.polyval(P, x))"
   ]
  },
  {
   "cell_type": "markdown",
   "id": "82329e2b",
   "metadata": {},
   "source": [
    "# Linear Algebra"
   ]
  },
  {
   "cell_type": "code",
   "execution_count": null,
   "id": "eeca606e",
   "metadata": {},
   "outputs": [],
   "source": [
    "import numpy as np\n",
    "\n",
    "\n",
    "# input N, the dimension of the square matrix\n",
    "N = int(input())\n",
    "\n",
    "# initialize and fill A with inputs, then cast it as a numpy array\n",
    "A = []\n",
    "for n in range(N):\n",
    "    A.append(list(map(float, input().split())))\n",
    "A = np.array(A)\n",
    "\n",
    "# print the determinant of A, rounded to 2 deciaml places\n",
    "print(np.round(np.linalg.det(A), 2))"
   ]
  },
  {
   "cell_type": "markdown",
   "id": "a50c742c",
   "metadata": {},
   "source": [
    "# **EXERCISE 2**\n"
   ]
  },
  {
   "cell_type": "markdown",
   "id": "109bf125",
   "metadata": {},
   "source": [
    "# Birthday Cake Candles"
   ]
  },
  {
   "cell_type": "code",
   "execution_count": null,
   "id": "48c29a9b",
   "metadata": {},
   "outputs": [],
   "source": [
    "#!/bin/python3\n",
    "import math\n",
    "import os\n",
    "import random\n",
    "import re\n",
    "import sys\n",
    "from collections import Counter\n",
    "#\n",
    "# Complete the 'birthdayCakeCandles' function below.\n",
    "#\n",
    "# The function is expected to return an INTEGER.\n",
    "# The function accepts INTEGER_ARRAY candles as parameter.\n",
    "#\n",
    "\n",
    "def birthdayCakeCandles(candles):\n",
    "    # use Counter to count occurrency of the tallest candle\n",
    "    tallest = max(candles)\n",
    "    counter = Counter(candles)\n",
    "    return counter[tallest]\n",
    "\n",
    "if __name__ == '__main__':\n",
    "    fptr = open(os.environ['OUTPUT_PATH'], 'w')\n",
    "    candles_count = int(input().strip())\n",
    "    candles = list(map(int, input().rstrip().split()))\n",
    "    result = birthdayCakeCandles(candles)\n",
    "    fptr.write(str(result) + '\\n')\n",
    "    fptr.close()\n"
   ]
  },
  {
   "cell_type": "markdown",
   "id": "2c645384",
   "metadata": {},
   "source": [
    "# Viral Advertising"
   ]
  },
  {
   "cell_type": "code",
   "execution_count": null,
   "id": "dc559cb6",
   "metadata": {},
   "outputs": [],
   "source": [
    "#!/bin/python3\n",
    "import math\n",
    "import os\n",
    "import random\n",
    "import re\n",
    "import sys\n",
    "#\n",
    "# Complete the 'viralAdvertising' function below.\n",
    "#\n",
    "# The function is expected to return an INTEGER.\n",
    "# The function accepts INTEGER n as parameter.\n",
    "\n",
    "\n",
    "def viralAdvertising(n):\n",
    "    # initial data\n",
    "    count = 2\n",
    "    liked = 2\n",
    "    for i in range(n-1):\n",
    "        # at every day i, we calculate how many liked the ad and we sum to count\n",
    "        shared = liked*3\n",
    "        liked = shared//2\n",
    "        count += liked\n",
    "    return count\n",
    "\n",
    "if __name__ == '__main__':\n",
    "    fptr = open(os.environ['OUTPUT_PATH'], 'w')\n",
    "    n = int(input().strip())\n",
    "    result = viralAdvertising(n)\n",
    "    fptr.write(str(result) + '\\n')\n",
    "    fptr.close()\n"
   ]
  },
  {
   "cell_type": "markdown",
   "id": "ae1596ae",
   "metadata": {},
   "source": [
    "# Recursive Digit Sum"
   ]
  },
  {
   "cell_type": "code",
   "execution_count": null,
   "id": "0b74d4f3",
   "metadata": {},
   "outputs": [],
   "source": [
    "#!/bin/python3\n",
    "import math\n",
    "import os\n",
    "import random\n",
    "import re\n",
    "import sys\n",
    "\n",
    "# as the task name suggest, let's use recursion\n",
    "def superDigit(n, k):\n",
    "    # in the base case, the number has only one digit, so that's the answer\n",
    "    if len(n)==1 and k==1:\n",
    "        return int(n)\n",
    "    else: \n",
    "        # the sum of digits repeated k times is the same as the sum multiplied by k\n",
    "        new_n = str(sum(list(map(int, n)))*k)\n",
    "        return superDigit(new_n, 1)\n",
    "\n",
    "if __name__ == '__main__':\n",
    "    fptr = open(os.environ['OUTPUT_PATH'], 'w')\n",
    "    first_multiple_input = input().rstrip().split()\n",
    "    n = first_multiple_input[0]\n",
    "    k = int(first_multiple_input[1])\n",
    "    result = superDigit(n, k)\n",
    "    fptr.write(str(result) + '\\n')\n",
    "    fptr.close()\n"
   ]
  },
  {
   "cell_type": "markdown",
   "id": "8e6871c6",
   "metadata": {},
   "source": [
    "# Insertion Sort - Part 1"
   ]
  },
  {
   "cell_type": "code",
   "execution_count": null,
   "id": "c415a8f0",
   "metadata": {},
   "outputs": [],
   "source": [
    "#!/bin/python3\n",
    "import math\n",
    "import os\n",
    "import random\n",
    "import re\n",
    "import sys\n",
    "def insertionSort1(n, arr):\n",
    "    # initialize with the last component\n",
    "    temp = arr[n-1]\n",
    "    for i in range(n-2,-1,-1):\n",
    "        if arr[i]>temp:\n",
    "            # not the right position, so we slide the i-th component\n",
    "            arr[i+1] = arr[i]\n",
    "            print(*arr)\n",
    "        else:\n",
    "            #right position, so we place temp and we end the algoritm\n",
    "            arr[i+1] = temp\n",
    "            print(*arr)\n",
    "            return None\n",
    "    # if the loop end, then the right position is the first one\n",
    "    arr[0] = temp\n",
    "    print(*arr)         \n",
    "if __name__ == '__main__':\n",
    "    n = int(input().strip())\n",
    "    arr = list(map(int, input().rstrip().split()))\n",
    "    insertionSort1(n, arr)\n"
   ]
  },
  {
   "cell_type": "markdown",
   "id": "30b5fe40",
   "metadata": {},
   "source": [
    "# Insertion Sort - Part 2"
   ]
  },
  {
   "cell_type": "code",
   "execution_count": null,
   "id": "9c4dad32",
   "metadata": {},
   "outputs": [],
   "source": [
    "#!/bin/python3\n",
    "import math\n",
    "import os\n",
    "import random\n",
    "import re\n",
    "import sys\n",
    "#\n",
    "# Complete the 'insertionSort2' function below.\n",
    "#\n",
    "# The function accepts following parameters:\n",
    "#  1. INTEGER n\n",
    "#  2. INTEGER_ARRAY arr\n",
    "#\n",
    "def insertionSort2(N, arr):\n",
    "    # we need to run a modification of the previous algoritm on every sub-array of arr with index in range(2,N+1)\n",
    "    for n in range(2,N+1):\n",
    "        # initialize with last component of subarray\n",
    "        temp = arr[n-1]\n",
    "        # let's keep track if there's been a swap in the loop\n",
    "        noswap = True\n",
    "        # that's pretty much the same as the previous algorithm\n",
    "        for i in range(n-2,-1,-1):\n",
    "            if arr[i]>temp:\n",
    "                arr[i+1] = arr[i]\n",
    "            else:\n",
    "                noswap = False\n",
    "                arr[i+1] = temp\n",
    "                print(*arr) \n",
    "                break\n",
    "        if noswap:\n",
    "            arr[0] = temp\n",
    "            print(*arr) \n",
    "if __name__ == '__main__':\n",
    "    n = int(input().strip())\n",
    "    arr = list(map(int, input().rstrip().split()))\n",
    "    insertionSort2(n, arr)\n"
   ]
  },
  {
   "cell_type": "markdown",
   "id": "1cb30686",
   "metadata": {},
   "source": [
    "# Number Line Jumps\n",
    "**Acknowledgment:** searched online for an idea to get argmin of a list"
   ]
  },
  {
   "cell_type": "code",
   "execution_count": null,
   "id": "dc4ea47e",
   "metadata": {},
   "outputs": [],
   "source": [
    "import math\n",
    "import os\n",
    "import random\n",
    "import re\n",
    "import sys\n",
    "\n",
    "def kangaroo(x1, v1, x2, v2):\n",
    "\n",
    "    # if the kangaroos start at the same position, then it's trivial\n",
    "    if x1==x2:\n",
    "        return \"YES\"\n",
    "    \n",
    "    # else, if they have the same velocity, they'll never cross each other \n",
    "    if v1==v2:\n",
    "        return \"NO\"        \n",
    "    \n",
    "    # let's save their position and velocity in two arrays, and let's save wich has min/max position/velocity\n",
    "    X = [x1, x2]\n",
    "    V = [v1, v2]\n",
    "    xmin = min(range(2), key=lambda i: X[i])\n",
    "    xmax = max(range(2), key=lambda i: X[i])\n",
    "    vmin = min(range(2), key=lambda i: V[i])\n",
    "\n",
    "    if xmin==vmin:      #if the nearest kangaroo is the slowest it will never reach the other one\n",
    "        return \"NO\"\n",
    "    \n",
    "    # let's simulate their trajectory until the nearest to zero cross the other one\n",
    "    while X[xmin]<X[xmax]:\n",
    "        X[xmin] += V[xmin]\n",
    "        X[xmax] += V[xmax]\n",
    "\n",
    "    # at the end of teh simulation, the answer is YES iff they are at the same position\n",
    "    if X[xmin]==X[xmax]:\n",
    "        return \"YES\"\n",
    "    else:\n",
    "        return \"NO\"\n",
    "        \n",
    "        \n",
    "if __name__ == '__main__':\n",
    "    fptr = open(os.environ['OUTPUT_PATH'], 'w')\n",
    "    first_multiple_input = input().rstrip().split()\n",
    "    x1 = int(first_multiple_input[0])\n",
    "    v1 = int(first_multiple_input[1])\n",
    "    x2 = int(first_multiple_input[2])\n",
    "    v2 = int(first_multiple_input[3])\n",
    "    result = kangaroo(x1, v1, x2, v2)\n",
    "    fptr.write(result + '\\n')\n",
    "    fptr.close()\n"
   ]
  }
 ],
 "metadata": {
  "kernelspec": {
   "display_name": "base",
   "language": "python",
   "name": "python3"
  },
  "language_info": {
   "codemirror_mode": {
    "name": "ipython",
    "version": 3
   },
   "file_extension": ".py",
   "mimetype": "text/x-python",
   "name": "python",
   "nbconvert_exporter": "python",
   "pygments_lexer": "ipython3",
   "version": "3.12.4"
  }
 },
 "nbformat": 4,
 "nbformat_minor": 5
}
